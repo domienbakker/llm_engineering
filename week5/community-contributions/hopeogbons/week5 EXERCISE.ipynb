{
 "cells": [
  {
   "cell_type": "markdown",
   "id": "943da8f3",
   "metadata": {},
   "source": [
    "# 🧠 Personal RAG System: My Digital Consciousness\n",
    "\n",
    "## Why I Built This\n",
    "\n",
    "Building a personal knowledge base that I can actually **converse with** is game-changing. Instead of manually searching through notes, documents, and thoughts, I can now ask questions in natural language and get contextual answers from everything I've documented about myself.\n",
    "\n",
    "This is my **digital twin** - a RAG (Retrieval-Augmented Generation) system built on my personal documentation covering my identity, beliefs, knowledge, purpose, and reflections.\n",
    "\n",
    "---\n",
    "\n",
    "## What This Does\n",
    "\n",
    "This system enables me to:\n",
    "- 🗂️ Organize my personal knowledge across 5 core dimensions (Identity, Beliefs, Knowledge, Purpose, Reflections)\n",
    "- 🔍 Perform semantic search across my entire consciousness documentation\n",
    "- 💬 Have natural conversations about my life, goals, values, and experiences\n",
    "- 📊 Visualize how my thoughts and documents cluster in vector space\n",
    "- 🤖 Get AI-powered insights about patterns in my own thinking\n",
    "\n",
    "**Tech Stack:** LangChain • OpenAI Embeddings • Chroma Vector DB • RAG • Conversational AI • Plotly\n",
    "\n",
    "---\n",
    "\n",
    "**Use Case:** Chat with my documented self → Retrieve relevant memories/knowledge → Get contextual answers about who I am\n"
   ]
  },
  {
   "cell_type": "markdown",
   "id": "8be7a688",
   "metadata": {},
   "source": [
    "## Step 1: Core Dependencies\n",
    "\n",
    "Setting up the essential libraries:\n",
    "- **LangChain** - Document loading, text splitting, and RAG chains\n",
    "- **OpenAI** - GPT-4o-mini for chat and embeddings for semantic search\n",
    "- **Chroma** - Vector database for storing and retrieving document embeddings\n",
    "- **Plotly** - Interactive 3D visualization of vector embeddings\n",
    "- **TSNE** - Dimensionality reduction for visualizing high-dimensional vectors\n",
    "- **Gradio** - Web UI for the chat interface\n",
    "\n",
    "**Note:** Make sure your `.env` file contains your `OPENAI_API_KEY`\n"
   ]
  },
  {
   "cell_type": "code",
   "execution_count": 1,
   "id": "1a4dcc6c",
   "metadata": {},
   "outputs": [],
   "source": [
    "import os\n",
    "import glob\n",
    "from dotenv import load_dotenv\n",
    "import gradio as gr"
   ]
  },
  {
   "cell_type": "code",
   "execution_count": 2,
   "id": "89e4a089",
   "metadata": {},
   "outputs": [],
   "source": [
    "from langchain.document_loaders import DirectoryLoader, TextLoader\n",
    "from langchain.text_splitter import CharacterTextSplitter\n",
    "from langchain_openai import OpenAIEmbeddings, ChatOpenAI\n",
    "from langchain_chroma import Chroma\n",
    "from sklearn.manifold import TSNE\n",
    "import numpy as np\n",
    "import plotly.graph_objects as go\n",
    "from langchain.memory import ConversationBufferMemory\n",
    "from langchain.chains import ConversationalRetrievalChain\n",
    "import plotly.express as px"
   ]
  },
  {
   "cell_type": "markdown",
   "id": "9d9da0ad",
   "metadata": {},
   "source": [
    "## Step 2: Configuration\n",
    "\n",
    "**Model:** Using `gpt-4o-mini` - fast, cost-effective, and perfect for conversational RAG\n",
    "\n",
    "**Database:** Storing vectors in `my-brain/sub-consciousness` directory for persistent storage\n",
    "\n",
    "**API Key:** Loading from environment variables for security\n"
   ]
  },
  {
   "cell_type": "code",
   "execution_count": 3,
   "id": "08a45922",
   "metadata": {},
   "outputs": [],
   "source": [
    "MODEL = \"gpt-4o-mini\"\n",
    "db_name = \"my-brain/sub-consciousness\""
   ]
  },
  {
   "cell_type": "code",
   "execution_count": 4,
   "id": "99c30faf",
   "metadata": {},
   "outputs": [],
   "source": [
    "load_dotenv(override=True)\n",
    "os.environ['OPENAI_API_KEY'] = os.getenv('OPENAI_API_KEY')"
   ]
  },
  {
   "cell_type": "markdown",
   "id": "e6153944",
   "metadata": {},
   "source": [
    "## Step 3: Load & Chunk Personal Documents\n",
    "\n",
    "**Process:**\n",
    "1. 📁 Scan `my-brain/consciousness/` directory for all subdirectories\n",
    "2. 📄 Load all markdown files from each category folder\n",
    "3. 🏷️ Tag each document with its category (Identity, Beliefs, Knowledge, Purpose, Reflections)\n",
    "4. ✂️ Split documents into chunks (1000 chars with 200 char overlap)\n",
    "\n",
    "**Why chunk?** Large documents are split into smaller pieces for better semantic search precision. Overlap ensures context isn't lost at chunk boundaries.\n",
    "\n",
    "**Categories:**\n",
    "- **Identity** - Who I am, background, relationships\n",
    "- **Beliefs & Values** - Spirituality, ethics, philosophy\n",
    "- **Knowledge & Learning** - Academics, skills, insights\n",
    "- **Purpose & Ambition** - Career vision, achievements, aspirations\n",
    "- **Reflections** - Thoughts, emotions, growth journal\n"
   ]
  },
  {
   "cell_type": "code",
   "execution_count": 5,
   "id": "1536a314",
   "metadata": {},
   "outputs": [
    {
     "name": "stdout",
     "output_type": "stream",
     "text": [
      "Total number of chunks: 301\n",
      "Document types found: ['reflections', 'purpose-and-ambition', 'beliefs-and-values', 'identity', 'knowledge-and-learning']\n"
     ]
    }
   ],
   "source": [
    "folders = glob.glob(\"my-brain/consciousness/*\")\n",
    "\n",
    "def add_metadata(doc, doc_type):\n",
    "    doc.metadata[\"doc_type\"] = doc_type\n",
    "    return doc\n",
    "\n",
    "text_loader_kwargs = {'encoding': 'utf-8'}\n",
    "\n",
    "documents = []\n",
    "for folder in folders:\n",
    "    doc_type = os.path.basename(folder)\n",
    "    loader = DirectoryLoader(folder, glob=\"**/*.md\", loader_cls=TextLoader, loader_kwargs=text_loader_kwargs)\n",
    "    folder_docs = loader.load()\n",
    "    documents.extend([add_metadata(doc, doc_type) for doc in folder_docs])\n",
    "\n",
    "text_splitter = CharacterTextSplitter(chunk_size=1000, chunk_overlap=200)\n",
    "chunks = text_splitter.split_documents(documents)\n",
    "doc_list = list(set(doc.metadata['doc_type'] for doc in documents))\n",
    "\n",
    "print(f\"Total number of chunks: {len(chunks)}\")\n",
    "print(f\"Document types found: {doc_list}\")"
   ]
  },
  {
   "cell_type": "markdown",
   "id": "674f9c1b",
   "metadata": {},
   "source": [
    "## Step 4: Create Vector Embeddings & Store in Chroma\n",
    "\n",
    "**What happens here:**\n",
    "1. 🔢 **OpenAI Embeddings** converts each text chunk into a 1,536-dimensional vector\n",
    "2. 💾 **Chroma Vector DB** stores these embeddings with metadata for fast retrieval\n",
    "3. 🔄 **Clean slate** - Delete existing collection if present, then rebuild\n",
    "\n",
    "**Why embeddings?** Text is converted to numbers (vectors) that capture semantic meaning. Similar concepts get similar vectors, enabling semantic search.\n",
    "\n",
    "**Vector Dimensions:** 1,536 (OpenAI's `text-embedding-ada-002` model)\n",
    "\n",
    "**Storage:** Persists to disk so we don't have to re-embed on every run\n"
   ]
  },
  {
   "cell_type": "code",
   "execution_count": 6,
   "id": "29a7656e",
   "metadata": {},
   "outputs": [
    {
     "name": "stdout",
     "output_type": "stream",
     "text": [
      "Vectorstore created with 301 documents\n"
     ]
    }
   ],
   "source": [
    "embeddings = OpenAIEmbeddings()\n",
    "\n",
    "if os.path.exists(db_name):\n",
    "    Chroma(persist_directory=db_name, embedding_function=embeddings).delete_collection()\n",
    "\n",
    "vectorstore = Chroma.from_documents(documents=chunks, embedding=embeddings, persist_directory=db_name)\n",
    "print(f\"Vectorstore created with {vectorstore._collection.count()} documents\")"
   ]
  },
  {
   "cell_type": "markdown",
   "id": "eff589c6",
   "metadata": {},
   "source": [
    "## Step 5: Inspect the Vector Store\n",
    "\n",
    "Quick sanity check to verify:\n",
    "- ✅ Total number of vectors stored\n",
    "- ✅ Dimensionality of each vector (should be 1,536)\n",
    "- ✅ Collection is accessible and queryable\n"
   ]
  },
  {
   "cell_type": "code",
   "execution_count": 7,
   "id": "e9b2a1dd",
   "metadata": {},
   "outputs": [
    {
     "name": "stdout",
     "output_type": "stream",
     "text": [
      "There are 301 vectors with 1,536 dimensions in the vector store\n"
     ]
    }
   ],
   "source": [
    "collection = vectorstore._collection\n",
    "count = collection.count()\n",
    "\n",
    "sample_embedding = collection.get(limit=1, include=[\"embeddings\"])[\"embeddings\"][0]\n",
    "dimensions = len(sample_embedding)\n",
    "print(f\"There are {count:,} vectors with {dimensions:,} dimensions in the vector store\")"
   ]
  },
  {
   "cell_type": "markdown",
   "id": "17256417",
   "metadata": {},
   "source": [
    "## Step 6: Visualize Vector Space in 2D/3D\n",
    "\n",
    "**Challenge:** We have 301 vectors in 1,536-dimensional space - impossible to visualize directly!\n",
    "\n",
    "**Solution:** Use **t-SNE** (t-Distributed Stochastic Neighbor Embedding) to reduce from 1,536 dimensions → 2D/3D while preserving relationships between vectors.\n",
    "\n",
    "**What you'll see:**\n",
    "- 📊 Each point = one chunk of my personal documentation\n",
    "- 🎨 Colors = document categories (Identity, Beliefs, Knowledge, Purpose, Reflections)\n",
    "- 📍 Proximity = semantic similarity (similar topics cluster together)\n",
    "\n",
    "**Why this matters:** Visualizing reveals how my thoughts, beliefs, and knowledge naturally cluster and relate to each other.\n"
   ]
  },
  {
   "cell_type": "code",
   "execution_count": 8,
   "id": "8ae07dec",
   "metadata": {},
   "outputs": [],
   "source": [
    "# Get data from the collection first\n",
    "result = collection.get(include=['embeddings', 'documents', 'metadatas'])\n",
    "vectors = np.array(result['embeddings'])\n",
    "documents = result['documents']\n",
    "metadatas = result['metadatas']\n",
    "doc_types = [metadata['doc_type'] for metadata in metadatas]\n",
    "\n",
    "# Create color mapping based on unique document types\n",
    "doc_list = sorted(set(doc_types))\n",
    "color_palette = px.colors.qualitative.Plotly\n",
    "color_map = [color_palette[i % len(color_palette)] for i in range(len(doc_list))]\n",
    "colors = [color_map[doc_list.index(t)] for t in doc_types]"
   ]
  },
  {
   "cell_type": "code",
   "execution_count": 9,
   "id": "cd2e7d23",
   "metadata": {},
   "outputs": [
    {
     "name": "stderr",
     "output_type": "stream",
     "text": [
      "/Users/hopeogbons/Projects/andela/llm_engineering/.venv/lib/python3.12/site-packages/threadpoolctl.py:1226: RuntimeWarning: \n",
      "Found Intel OpenMP ('libiomp') and LLVM OpenMP ('libomp') loaded at\n",
      "the same time. Both libraries are known to be incompatible and this\n",
      "can cause random crashes or deadlocks on Linux when loaded in the\n",
      "same Python program.\n",
      "Using threadpoolctl may cause crashes or deadlocks. For more\n",
      "information and possible workarounds, please see\n",
      "    https://github.com/joblib/threadpoolctl/blob/master/multiple_openmp.md\n",
      "\n",
      "  warnings.warn(msg, RuntimeWarning)\n"
     ]
    },
    {
     "data": {
      "application/vnd.plotly.v1+json": {
       "config": {
        "plotlyServerURL": "https://plot.ly"
       },
       "data": [
        {
         "hoverinfo": "text",
         "marker": {
          "color": [
           "#FFA15A",
           "#FFA15A",
           "#FFA15A",
           "#FFA15A",
           "#FFA15A",
           "#FFA15A",
           "#FFA15A",
           "#FFA15A",
           "#FFA15A",
           "#FFA15A",
           "#FFA15A",
           "#FFA15A",
           "#FFA15A",
           "#FFA15A",
           "#FFA15A",
           "#FFA15A",
           "#FFA15A",
           "#FFA15A",
           "#FFA15A",
           "#FFA15A",
           "#FFA15A",
           "#FFA15A",
           "#FFA15A",
           "#FFA15A",
           "#FFA15A",
           "#FFA15A",
           "#FFA15A",
           "#FFA15A",
           "#FFA15A",
           "#FFA15A",
           "#FFA15A",
           "#FFA15A",
           "#FFA15A",
           "#FFA15A",
           "#FFA15A",
           "#FFA15A",
           "#FFA15A",
           "#FFA15A",
           "#FFA15A",
           "#FFA15A",
           "#FFA15A",
           "#FFA15A",
           "#FFA15A",
           "#FFA15A",
           "#FFA15A",
           "#FFA15A",
           "#FFA15A",
           "#FFA15A",
           "#FFA15A",
           "#FFA15A",
           "#FFA15A",
           "#FFA15A",
           "#FFA15A",
           "#FFA15A",
           "#FFA15A",
           "#FFA15A",
           "#FFA15A",
           "#FFA15A",
           "#FFA15A",
           "#FFA15A",
           "#FFA15A",
           "#FFA15A",
           "#FFA15A",
           "#FFA15A",
           "#FFA15A",
           "#FFA15A",
           "#FFA15A",
           "#FFA15A",
           "#FFA15A",
           "#FFA15A",
           "#FFA15A",
           "#FFA15A",
           "#FFA15A",
           "#FFA15A",
           "#FFA15A",
           "#FFA15A",
           "#FFA15A",
           "#FFA15A",
           "#FFA15A",
           "#FFA15A",
           "#FFA15A",
           "#FFA15A",
           "#FFA15A",
           "#FFA15A",
           "#EF553B",
           "#EF553B",
           "#EF553B",
           "#EF553B",
           "#EF553B",
           "#EF553B",
           "#EF553B",
           "#EF553B",
           "#EF553B",
           "#EF553B",
           "#EF553B",
           "#EF553B",
           "#EF553B",
           "#EF553B",
           "#EF553B",
           "#EF553B",
           "#EF553B",
           "#EF553B",
           "#EF553B",
           "#EF553B",
           "#EF553B",
           "#EF553B",
           "#EF553B",
           "#EF553B",
           "#EF553B",
           "#EF553B",
           "#EF553B",
           "#EF553B",
           "#EF553B",
           "#EF553B",
           "#EF553B",
           "#EF553B",
           "#EF553B",
           "#EF553B",
           "#EF553B",
           "#EF553B",
           "#EF553B",
           "#EF553B",
           "#EF553B",
           "#EF553B",
           "#AB63FA",
           "#AB63FA",
           "#AB63FA",
           "#AB63FA",
           "#AB63FA",
           "#AB63FA",
           "#AB63FA",
           "#AB63FA",
           "#AB63FA",
           "#AB63FA",
           "#AB63FA",
           "#AB63FA",
           "#AB63FA",
           "#AB63FA",
           "#AB63FA",
           "#AB63FA",
           "#AB63FA",
           "#AB63FA",
           "#AB63FA",
           "#AB63FA",
           "#AB63FA",
           "#AB63FA",
           "#AB63FA",
           "#AB63FA",
           "#AB63FA",
           "#AB63FA",
           "#AB63FA",
           "#AB63FA",
           "#AB63FA",
           "#AB63FA",
           "#AB63FA",
           "#AB63FA",
           "#AB63FA",
           "#AB63FA",
           "#AB63FA",
           "#AB63FA",
           "#AB63FA",
           "#AB63FA",
           "#AB63FA",
           "#AB63FA",
           "#AB63FA",
           "#AB63FA",
           "#AB63FA",
           "#AB63FA",
           "#AB63FA",
           "#AB63FA",
           "#AB63FA",
           "#AB63FA",
           "#AB63FA",
           "#AB63FA",
           "#636EFA",
           "#636EFA",
           "#636EFA",
           "#636EFA",
           "#636EFA",
           "#636EFA",
           "#636EFA",
           "#636EFA",
           "#636EFA",
           "#636EFA",
           "#636EFA",
           "#636EFA",
           "#636EFA",
           "#636EFA",
           "#636EFA",
           "#636EFA",
           "#636EFA",
           "#636EFA",
           "#636EFA",
           "#636EFA",
           "#636EFA",
           "#636EFA",
           "#636EFA",
           "#636EFA",
           "#636EFA",
           "#636EFA",
           "#636EFA",
           "#636EFA",
           "#636EFA",
           "#636EFA",
           "#636EFA",
           "#636EFA",
           "#636EFA",
           "#636EFA",
           "#636EFA",
           "#636EFA",
           "#636EFA",
           "#636EFA",
           "#636EFA",
           "#636EFA",
           "#636EFA",
           "#636EFA",
           "#636EFA",
           "#636EFA",
           "#636EFA",
           "#636EFA",
           "#636EFA",
           "#636EFA",
           "#636EFA",
           "#636EFA",
           "#636EFA",
           "#636EFA",
           "#636EFA",
           "#636EFA",
           "#636EFA",
           "#636EFA",
           "#636EFA",
           "#636EFA",
           "#636EFA",
           "#636EFA",
           "#636EFA",
           "#636EFA",
           "#636EFA",
           "#636EFA",
           "#636EFA",
           "#636EFA",
           "#636EFA",
           "#636EFA",
           "#636EFA",
           "#636EFA",
           "#00CC96",
           "#00CC96",
           "#00CC96",
           "#00CC96",
           "#00CC96",
           "#00CC96",
           "#00CC96",
           "#00CC96",
           "#00CC96",
           "#00CC96",
           "#00CC96",
           "#00CC96",
           "#00CC96",
           "#00CC96",
           "#00CC96",
           "#00CC96",
           "#00CC96",
           "#00CC96",
           "#00CC96",
           "#00CC96",
           "#00CC96",
           "#00CC96",
           "#00CC96",
           "#00CC96",
           "#00CC96",
           "#00CC96",
           "#00CC96",
           "#00CC96",
           "#00CC96",
           "#00CC96",
           "#00CC96",
           "#00CC96",
           "#00CC96",
           "#00CC96",
           "#00CC96",
           "#00CC96",
           "#00CC96",
           "#00CC96",
           "#00CC96",
           "#00CC96",
           "#00CC96",
           "#00CC96",
           "#00CC96",
           "#00CC96",
           "#00CC96",
           "#00CC96",
           "#00CC96",
           "#00CC96",
           "#00CC96",
           "#00CC96",
           "#00CC96",
           "#00CC96",
           "#00CC96",
           "#00CC96",
           "#00CC96",
           "#00CC96",
           "#00CC96"
          ],
          "opacity": 0.8,
          "size": 5
         },
         "mode": "markers",
         "text": [
          "Type: reflections<br>Text: # Emotions\n\n## Feelings\n\n### Current Emotional State\n\nRight now (late 2024), I'm feeling a mix of ex...",
          "Type: reflections<br>Text: ### Dominant Emotions\n\n**Day-to-day**: I experience determination most frequently. Wake up with purp...",
          "Type: reflections<br>Text: **Contentment**: Growing emotion. I used to always be restless, wanting more. Learning to be satisfi...",
          "Type: reflections<br>Text: I'm learning I'm more emotional than I thought. Nigerian male culture teaches emotional suppression....",
          "Type: reflections<br>Text: **Seasonal**: Rainy season in Enugu (April-October) affects my mood slightly - feel more introspecti...",
          "Type: reflections<br>Text: **To praise**: Uncomfortable honestly. I deflect to team (\"they did the work\"). Growing up with mode...",
          "Type: reflections<br>Text: **Negative triggers**:\n\n- Disrespect to my team - immediate anger\n- Dishonesty/corruption - frustrat...",
          "Type: reflections<br>Text: For sadness or disappointment: I let myself feel it (crying is okay), pray, journal, sleep on it. Us...",
          "Type: reflections<br>Text: **Physical**: Emotions show in my body. Stress = tight shoulders. Anxiety = upset stomach. Excitemen...",
          "Type: reflections<br>Text: I'm learning this is both strength (drives continuous improvement) and weakness (never satisfied, ca...",
          "Type: reflections<br>Text: ### To Change\n\n**Example**: Andela changed course schedule mid-program. My reaction: frustrated (I'd...",
          "Type: reflections<br>Text: **Rejection**: Hurts but I'm resilient. Lost client or pitch feels bad for a day then I move on. Per...",
          "Type: reflections<br>Text: **Frequency**: Daily small joys, weekly significant happiness (Sunday worship, team wins), occasiona...",
          "Type: reflections<br>Text: **Allowing sadness**: Nigerian culture says \"be strong, no crying.\" I'm learning sadness isn't weakn...",
          "Type: reflections<br>Text: **Expression**: I'm learning healthy anger expression. Used to suppress or let it leak out passive-a...",
          "Type: reflections<br>Text: **Irrational/disproportionate fears**:\n\n- Running out of money (even though we're profitable)\n- Bein...",
          "Type: reflections<br>Text: **Familial love**: Deep love for parents, siblings. Express it through providing financially, spendi...",
          "Type: reflections<br>Text: ## Emotional Intelligence\n\n### Self-Awareness\n\nI'm getting better at recognizing emotions in real-ti...",
          "Type: reflections<br>Text: - Pausing before reacting (especially anger)\n- Breathing techniques when anxious\n- Reframing situati...",
          "Type: reflections<br>Text: **I'm learning**:\n\n- To ask instead of assume (\"how are you feeling about this?\")\n- That people proc...",
          "Type: reflections<br>Text: **Cultural awareness**: Understand Nigerian communication (indirect sometimes, respect for hierarchy...",
          "Type: reflections<br>Text: **From ashamed of struggle to accepting it**: Used to think struggles meant I was failing. Now I see...",
          "Type: reflections<br>Text: **From scarcity anxiety**: Growing up with financial stress left mark. Still have irrational money a...",
          "Type: reflections<br>Text: **Saying \"I don't know\" without shame**: Used to feel like admitting ignorance was weakness. Now I c...",
          "Type: reflections<br>Text: **More willing to sit with discomfort**: Not every problem needs immediate solving. Sometimes sittin...",
          "Type: reflections<br>Text: # Thoughts\n\n## Introspections\n\n### Self-Examination\n\nRight now (late 2024), I'm questioning whether ...",
          "Type: reflections<br>Text: My relationship with money is complex. Grew up with financial scarcity, so part of me still operates...",
          "Type: reflections<br>Text: **Sunday me**: \"This week was wild. God is good though. He's been faithful through everything.\" (Gra...",
          "Type: reflections<br>Text: **Purpose questions**: Is serving Nigerian SMEs enough or should I be thinking bigger - pan-African,...",
          "Type: reflections<br>Text: My stress shows up physically - tight shoulders, headaches, poor sleep. I'm learning to recognize th...",
          "Type: reflections<br>Text: ## Raw Inner Monologue\n\n### Stream of Consciousness\n\n_(Saturday morning, working on Andela assignmen...",
          "Type: reflections<br>Text: _(Tuesday, difficult client call)_\n\"He's complaining again about the timeline. We agreed on 8 weeks....",
          "Type: reflections<br>Text: When a client is rude, my first thought is often \"who does he think he is?\" Then I catch myself and ...",
          "Type: reflections<br>Text: I have proud thoughts sometimes - \"I'm better than most developers I meet\" - and I immediately check...",
          "Type: reflections<br>Text: **Overcoming narrative**: \"I came from modest background in Enugu, got scholarship to Portsmouth des...",
          "Type: reflections<br>Text: **Growth narrative**: \"Every challenge is making me better. Failed startup taught me. Near-bankruptc...",
          "Type: reflections<br>Text: **Andela program completion**: Week 6 of 8. I'm doing well but final project is make-or-break. Need ...",
          "Type: reflections<br>Text: **AI's impact on software engineering**: LLMs like GitHub Copilot are changing how we code. In 5 yea...",
          "Type: reflections<br>Text: **Secondary**: RoboOffice growth - sales pipeline, product roadmap, team development. This is ongoin...",
          "Type: reflections<br>Text: I'm also very analytical - break problems into components, analyze each, synthesize solutions. Good ...",
          "Type: reflections<br>Text: **Am I doing enough?**: This question haunts me. We're growing, but could we grow faster? I'm mentor...",
          "Type: reflections<br>Text: ### Repeated Thoughts\n\n**Comparison**: I catch myself comparing RoboOffice to other startups. They r...",
          "Type: reflections<br>Text: **Legacy thoughts**: What will I leave behind? When I'm 60, what will I be proud of? This thought mo...",
          "Type: reflections<br>Text: **Productivity guilt loop**: \"Spent 3 hours in meetings. Didn't write any code. Wasn't productive. B...",
          "Type: reflections<br>Text: **Learning and growth**: Obsessed with becoming better. Better engineer, better leader, better Chris...",
          "Type: reflections<br>Text: **Connecting faith and work**: Reading Tim Keller's \"Every Good Endeavor.\" Realized work itself is w...",
          "Type: reflections<br>Text: **Team culture is competitive moat**: Our zero turnover, team loyalty, collaborative culture - compe...",
          "Type: reflections<br>Text: ### Organized Thinking\n\n**RoboOffice 2025 Strategy (clear framework)**:\n\n1. Product: Launch LLM-powe...",
          "Type: reflections<br>Text: **Friday weekly reviews**: Every Friday 4-5 PM, I review the week. What worked? What didn't? What di...",
          "Type: reflections<br>Text: **From \"competition is threat\" to \"abundance mindset\"**: Other Nigerian automation companies succeed...",
          "Type: reflections<br>Text: ### Deepening Understanding\n\n**Understanding of faith**: Moving from \"God who helps me succeed\" to \"...",
          "Type: reflections<br>Text: **Understanding of success**: From \"make money, gain recognition\" to \"faithful stewardship, lasting ...",
          "Type: reflections<br>Text: **More focus on rest**: Finally accepting that rest isn't wasteful. Sabbath, sleep, vacation - these...",
          "Type: reflections<br>Text: **Meta-cognition improving**: I'm thinking about my thinking. Noticing my mental patterns, biases, l...",
          "Type: reflections<br>Text: # Growth Journal\n\n## Ongoing Evolution of Self\n\n### Current Growth Phase\n\nI'm in what I call my \"sca...",
          "Type: reflections<br>Text: ### Areas of Active Development\n\n**Leadership skills**: Reading management books (Radical Candor, Hi...",
          "Type: reflections<br>Text: **Public communication**: Writing technical articles, speaking at conferences, active on Twitter. Bu...",
          "Type: reflections<br>Text: **Risk tolerance**: From cautious bootstrapper to considering fundraising. Shifting from \"preserve w...",
          "Type: reflections<br>Text: **Team feedback**: Quarterly survey shows 9/10 satisfaction with leadership (up from 7/10 last year)...",
          "Type: reflections<br>Text: **Humility**: Portsmouth and building RoboOffice humbled me. Learning to say \"I don't know,\" admit m...",
          "Type: reflections<br>Text: **Leadership**:\n\n- 1-on-1s (from awkward to valuable)\n- Feedback delivery (from avoiding to direct +...",
          "Type: reflections<br>Text: **From scarcity to abundance**: Nigerian upbringing created scarcity mindset. Learning there's enoug...",
          "Type: reflections<br>Text: **Regular exercise**: Gym 3x/week since September 2024. Not perfect but consistent. Physical health ...",
          "Type: reflections<br>Text: **Scaling leadership**: Team is growing (8 now, targeting 15 by end of 2025). My leadership needs to...",
          "Type: reflections<br>Text: **Competitive pressure**: Bigger, funded companies entering our market. How do we compete with deep ...",
          "Type: reflections<br>Text: **Financial planning**: Working with accountant and Dr. Adeyemi to model fundraising scenarios. Maki...",
          "Type: reflections<br>Text: **Support system**: Chidi, Dr. Adeyemi, Pastor Obi, therapist. Multiple sources of strength and wisd...",
          "Type: reflections<br>Text: **Burnout episodes (2021, 2023)**: Taught me I'm not invincible, rest isn't optional, boundaries are...",
          "Type: reflections<br>Text: **2023**:\n\n- Hit ₦50M annual revenue\n- Grew team to 8 people\n- Moved to better office space\n- Starte...",
          "Type: reflections<br>Text: - \"You're much better at listening now\"\n- \"Clear vision, we know where we're going\"\n- \"Trust us more...",
          "Type: reflections<br>Text: **Business**:\n\n- Revenue: ₦800k (2019) → ₦50M (2023) = 6,150% growth\n- Team: 0 → 8 employees\n- Clien...",
          "Type: reflections<br>Text: ### Qualitative Changes\n\n**Peace**: Despite more responsibility, more peace than 3 years ago. Sabbat...",
          "Type: reflections<br>Text: **Satisfaction**: More satisfied with life even though I'm still ambitious. Can hold contentment and...",
          "Type: reflections<br>Text: **This year**: Learned that public sharing (Twitter, blog posts, talks) creates unexpected opportuni...",
          "Type: reflections<br>Text: **Team culture as moat**: Realized our zero-turnover, high-trust culture is competitive advantage co...",
          "Type: reflections<br>Text: **Invested in team development**: Used to spend training budget mostly on myself. Now 60% goes to te...",
          "Type: reflections<br>Text: **Age 28 - \"I can't do everything\"**: Hitting burnout wall, realized delegation isn't weakness. This...",
          "Type: reflections<br>Text: **Next quarter (Q1 2025)**: Launch LLM document processing product, speak at TechCabal, publish 3 bl...",
          "Type: reflections<br>Text: **10-year**: Multiple successful businesses built, 100+ jobs created directly, 1,000+ developers men...",
          "Type: reflections<br>Text: ### Continuous Improvement\n\n**Daily practice**:\n\n- 5:30 AM wake, prayer, Bible, journal (30 min)\n- D...",
          "Type: reflections<br>Text: **Feedback loops**: Quarterly team surveys, monthly client check-ins, regular mentor conversations, ...",
          "Type: reflections<br>Text: **From team**: \"We want more context on strategic decisions.\" Started monthly all-hands where I shar...",
          "Type: reflections<br>Text: **Pattern recognition**: I avoid conflict initially, then when forced to address it, I'm direct. Nee...",
          "Type: reflections<br>Text: **Experimentation**: Testing different approaches - pricing models, management styles, product featu...",
          "Type: identity<br>Text: # Relationships\n\n## Social Bonds\n\n### Close Friendships\n\n**Emmanuel** is my best friend since univer...",
          "Type: identity<br>Text: ### Professional Networks\n\nI'm active in the Enugu Tech Community - we meet monthly at the Hub. I've...",
          "Type: identity<br>Text: In my neighborhood in Enugu, I'm known as \"the computer guy.\" Neighbors bring me their laptops to fi...",
          "Type: identity<br>Text: **Emeka** (22) is at UNN studying Computer Science. He's brilliant but lazy - has the potential to b...",
          "Type: identity<br>Text: **My grandfather** (dad's dad) is 82 and still sharp. He doesn't get the tech stuff at all, but he l...",
          "Type: identity<br>Text: ### Family Values and Traditions\n\n**Education first**: My parents mortgaged everything for our educa...",
          "Type: identity<br>Text: **Sarah Chen** from Andela is my current mentor for the LLM program. She's a ML engineer based in Si...",
          "Type: identity<br>Text: ### Inspirational Figures\n\n**Jason Njoku** (Iroko TV founder) showed me it was possible to build a s...",
          "Type: identity<br>Text: My team at RoboOffice keeps me humble. My junior developer, Tunde, who's 23, often has fresher persp...",
          "Type: identity<br>Text: **Professor Williams** at Portsmouth taught me to think like an engineer, not just a coder. That dis...",
          "Type: identity<br>Text: My brother Emeka, despite being rebellious, is studying CS partly because he saw me succeed with it....",
          "Type: identity<br>Text: **My accountability partner Ifeanyi** and I push each other. When he raised his pre-seed round, it m...",
          "Type: identity<br>Text: The relationships with my family keep me grounded. When I'm getting too caught up in tech world dram...",
          "Type: identity<br>Text: # Personality\n\n## Core Traits\n\n### Strengths\n\nMy name is Hope Ogbons, single Male living in Lagos, t...",
          "Type: identity<br>Text: I love learning new things - right now I'm trying to teach myself piano in my spare time, though my ...",
          "Type: identity<br>Text: I have strong problem-solving abilities - last month, I optimized one of our automation workflows an...",
          "Type: identity<br>Text: I struggle with delegation. As CEO, I should be focusing on strategy, but I still find myself writin...",
          "Type: identity<br>Text: I'm generally optimistic and energetic. Even when a client project goes sideways, I approach it as a...",
          "Type: identity<br>Text: **Family**: Even though I'm single, family is huge. I send money home to my parents in Enugu every m...",
          "Type: identity<br>Text: ### Professional Values\n\n**Excellence**: At RoboOffice, we don't ship mediocre code. I review every ...",
          "Type: identity<br>Text: ### Non-Negotiables\n\nI will never compromise on my faith - business meetings don't happen during Sun...",
          "Type: identity<br>Text: By 7 AM, I'm at my desk writing code or reviewing pull requests - that's my peak productivity window...",
          "Type: identity<br>Text: ### Behavioral Patterns\n\nWhen I'm stressed, I clean code. Refactoring calms me down - there's someth...",
          "Type: identity<br>Text: But I also trust my gut, especially for business decisions. When I had the opportunity to join Andel...",
          "Type: identity<br>Text: **Failure**: I take failures hard initially. When our first product launch flopped in 2021, I was de...",
          "Type: identity<br>Text: **Negative triggers**: Incompetence frustrates me deeply, especially when it affects clients. Dishon...",
          "Type: identity<br>Text: I'm working on self-regulation. My natural instinct when a client gives terrible feedback is to defe...",
          "Type: identity<br>Text: # Background\n\n## Life Story\n\n### Early Years\n\nI was born in Enugu, Nigeria in 1995. My parents ran a...",
          "Type: identity<br>Text: ### Formative Experiences\n\nGetting into University of Portsmouth was transformative. It wasn't my fi...",
          "Type: identity<br>Text: Coming back to Nigeria after graduation was tough. Friends who stayed in the UK questioned why I'd r...",
          "Type: identity<br>Text: **Joining Andela (2024)**: I was comfortable, RoboOffice was profitable, but I felt stagnant. When I...",
          "Type: identity<br>Text: The transition from employee to CEO has been the hardest. One day I'm writing code with clear requir...",
          "Type: identity<br>Text: We grew up in a modest 3-bedroom flat in Independence Layout, Enugu. Dinner time was family time - n...",
          "Type: identity<br>Text: Getting into University of Portsmouth changed everything. The facilities, the library access, profes...",
          "Type: identity<br>Text: Growing up in Enugu, I also saw a lot of wasted potential - brilliant people stuck in low-opportunit...",
          "Type: identity<br>Text: ## Cultural Roots\n\n### Heritage and Ancestry\n\nI'm Igbo, from Enugu State. Our family is originally f...",
          "Type: identity<br>Text: Christmas is huge in our family. We travel to Enugu, there's always a massive family reunion, and Mo...",
          "Type: identity<br>Text: ### Geographic Influences\n\nGrowing up in Enugu - the coal city - shaped my no-nonsense approach. Enu...",
          "Type: identity<br>Text: That scarcity mindset has pros and cons. Pro: I'm very careful with RoboOffice finances - we have 6 ...",
          "Type: identity<br>Text: ### Access and Opportunities\n\nI had access to education, which put me ahead of many. My parents prio...",
          "Type: purpose-and-ambition<br>Text: # Career Vision\n\n## Professional Goals\n\n### Short-Term Goals (1-2 Years)\n\nBy the end of 2025, I want...",
          "Type: purpose-and-ambition<br>Text: I'm also planning to hire my first dedicated AI/ML engineer by mid-2025. I can't do all the LLM work...",
          "Type: purpose-and-ambition<br>Text: I also want to have launched at least one open-source tool that the Nigerian dev community actually ...",
          "Type: purpose-and-ambition<br>Text: Long-term, I'd like to teach part-time at a university - maybe UNN where my brother is studying - sh...",
          "Type: purpose-and-ambition<br>Text: Ultimately, I want to look back at 60 and know that I used my God-given talents fully, created oppor...",
          "Type: purpose-and-ambition<br>Text: ### What I Want to Be Known For\n\nI want to be known as the CEO who actually cared about his team - w...",
          "Type: purpose-and-ambition<br>Text: At RoboOffice, we're building tools that handle multiple Nigerian languages and understand local bus...",
          "Type: purpose-and-ambition<br>Text: The developers I've mentored going on to build their own companies or becoming CTO's somewhere - tha...",
          "Type: purpose-and-ambition<br>Text: I hope the next generation of Nigerian founders feel less alone because they can look back at storie...",
          "Type: purpose-and-ambition<br>Text: ### In-Progress Milestones\n\nCurrently finishing the Andela LLM Engineering program - on week 6 of 8,...",
          "Type: purpose-and-ambition<br>Text: Working on my first technical conference talk for TechCabal Battlefield - speaking about \"AI Automat...",
          "Type: purpose-and-ambition<br>Text: Get featured in TechCrunch or another major tech publication.\n\nSpeak at an international conference ...",
          "Type: purpose-and-ambition<br>Text: My current challenge is transitioning from founder-who-does-everything to CEO-who-leads-a-team. It's...",
          "Type: purpose-and-ambition<br>Text: Alternatively, I could see myself going into tech policy or education - using my experience to impro...",
          "Type: purpose-and-ambition<br>Text: **AI/ML at depth**: The Andela program is great, but I need to go deeper into transformer architectu...",
          "Type: purpose-and-ambition<br>Text: # Achievements\n\n## Personal Wins\n\n### Academic Achievements\n\n**First Class Honours from University o...",
          "Type: purpose-and-ambition<br>Text: ### Personal Growth Milestones\n\n**Started therapy in 2023**: Biggest personal growth decision I've m...",
          "Type: purpose-and-ambition<br>Text: **Built healthy boundaries with work**: In 2023, I instituted \"no work on Sundays\" rule for myself. ...",
          "Type: purpose-and-ambition<br>Text: **Learned to say no to family financial requests**: Culturally difficult but necessary. Had to set b...",
          "Type: purpose-and-ambition<br>Text: **From scarcity to generosity**: Growing up with financial anxiety made me stingy. I've learned to b...",
          "Type: purpose-and-ambition<br>Text: **Hit ₦10M in annual revenue (2021)**: First major revenue milestone. Proved this wasn't just a free...",
          "Type: purpose-and-ambition<br>Text: **Automated invoice processing for 12+ companies**: Our flagship product. Saves clients an average o...",
          "Type: purpose-and-ambition<br>Text: **Built an LLM-powered document Q&A system (in beta)**: My Andela capstone project. Uses RAG to let ...",
          "Type: purpose-and-ambition<br>Text: **Best Presentation at Andela LLM Week 5**: My RAG implementation demo was highlighted as the best i...",
          "Type: purpose-and-ambition<br>Text: **Cloud infrastructure**: AWS certified (Solutions Architect Associate, 2023). Can design and deploy...",
          "Type: purpose-and-ambition<br>Text: **Zero employee turnover in 2023**: In an industry where people job-hop constantly, all my team memb...",
          "Type: purpose-and-ambition<br>Text: **Taught 100+ students Python through Code Lagos**: Saturday sessions for 6 months. Completely volun...",
          "Type: purpose-and-ambition<br>Text: **Partnership with local university (UNN)**: Working with the CS department to provide internships. ...",
          "Type: purpose-and-ambition<br>Text: ## Quantifiable Results\n\n### Measurable Outcomes\n\n**₦50M in annual revenue** (2023), up from ₦20M in...",
          "Type: purpose-and-ambition<br>Text: **Sales conversion**: 45% of pitches convert to clients, up from 20% in 2020.\n\n**Client satisfaction...",
          "Type: purpose-and-ambition<br>Text: ### Documented Success\n\n**Case studies**: Written 4 detailed case studies of client projects. Using ...",
          "Type: purpose-and-ambition<br>Text: # Aspirations\n\n## Dreams\n\n### Personal Dreams\n\nI want to build a beautiful house in Enugu for my par...",
          "Type: purpose-and-ambition<br>Text: I dream of having enough financial security that my family never worries about money again. No more ...",
          "Type: purpose-and-ambition<br>Text: Speaking at a major international conference like AWS re:Invent or Google I/O would be incredible. R...",
          "Type: purpose-and-ambition<br>Text: There's a documentary idea I've been thinking about - profiling successful tech entrepreneurs from u...",
          "Type: purpose-and-ambition<br>Text: I want to own my time completely by 40. Wake up when I want, work on what I want, travel when I want...",
          "Type: purpose-and-ambition<br>Text: ## What I'm Striving Toward\n\n### Current Focus Areas\n\n**Mastering LLM engineering**: Right now, my m...",
          "Type: purpose-and-ambition<br>Text: **Improving my leadership skills**: Working with my therapist and reading extensively about manageme...",
          "Type: purpose-and-ambition<br>Text: **Public speaking**: Accepted to speak at TechCabal Battlefield in February 2025. Preparing the talk...",
          "Type: purpose-and-ambition<br>Text: **Business acumen**: Taking online courses in finance, fundraising, and growth strategy. I can code,...",
          "Type: purpose-and-ambition<br>Text: ### Experimentation and Exploration\n\n**Testing different LLM providers**: Experimenting with OpenAI,...",
          "Type: purpose-and-ambition<br>Text: **Testing pricing models**: Moving some clients from project-based to subscription pricing. Seeing i...",
          "Type: purpose-and-ambition<br>Text: A better communicator - able to inspire teams, convince investors, explain complex technical concept...",
          "Type: purpose-and-ambition<br>Text: **Management**: Lead a team of 50+ people effectively. Create a culture people love. Develop leaders...",
          "Type: purpose-and-ambition<br>Text: **Teach at a university**: Guest lecture or maybe a semester-long course at UNN. Share real-world kn...",
          "Type: purpose-and-ambition<br>Text: **Inspire a generation**: Show young people in Enugu, in the Southeast, in Nigeria that you can buil...",
          "Type: purpose-and-ambition<br>Text: **Learning**: Deep expertise in LLM deployment, started learning Japanese (random goal but why not),...",
          "Type: purpose-and-ambition<br>Text: **Skills**: Expert in AI/ML, excellent leader, confident public speaker, decent pianist.\n\n**Impact**...",
          "Type: purpose-and-ambition<br>Text: **Financial**: ₦500M+ net worth (roughly $500k at current rates). Enough that I work because I want ...",
          "Type: purpose-and-ambition<br>Text: I want to have been generous - with my money, my time, my knowledge. I want former mentees running t...",
          "Type: beliefs-and-values<br>Text: # Ethics\n\n## Moral Compass\n\n### Core Principles\n\n**Integrity above all**: I'd rather lose money than...",
          "Type: beliefs-and-values<br>Text: **Steward resources wisely**: Money (mine, clients', investors' eventually) is a trust. Don't waste ...",
          "Type: beliefs-and-values<br>Text: **Rights AND responsibilities**: I have rights as business owner, but also responsibilities to my te...",
          "Type: beliefs-and-values<br>Text: **I won't compromise my faith for business**: If a client meeting requires me to miss church, the an...",
          "Type: beliefs-and-values<br>Text: **Truth matters**: In a culture where bending truth is normal, I'll be known for saying what I mean ...",
          "Type: beliefs-and-values<br>Text: **6. Can I justify it to my team?**: If I can't explain and defend this decision to my team with pri...",
          "Type: beliefs-and-values<br>Text: **Precedent**: What pattern am I establishing? If everyone did this, what would happen to industry/s...",
          "Type: beliefs-and-values<br>Text: **Client demands vs. Technical integrity**: Client wants quick hack; I know it'll create technical d...",
          "Type: beliefs-and-values<br>Text: **Example 3**: Team member made a costly mistake. I took responsibility publicly to the client, hand...",
          "Type: beliefs-and-values<br>Text: **Conflicts of interest**: If I have competing interests, disclose them. Can't serve two clients who...",
          "Type: beliefs-and-values<br>Text: ### Personal Integrity\n\n**Authenticity**: I'm the same person at church, at client meetings, at home...",
          "Type: beliefs-and-values<br>Text: ### Accountability Standards\n\n**Weekly review**: Every Friday, I review the week - Did I live my val...",
          "Type: beliefs-and-values<br>Text: ### Commitment to Truth\n\n**No lying to clients**: Don't overpromise features, don't give fake deadli...",
          "Type: beliefs-and-values<br>Text: ## Social Responsibility\n\n### Community Ethics\n\n**Hire locally when possible**: 7 of my 8 team membe...",
          "Type: beliefs-and-values<br>Text: **Paperless operations**: Everything digital where possible. Reduce waste.\n\n**Remote work**: Most of...",
          "Type: beliefs-and-values<br>Text: **Accessibility**: Where possible, make our tools accessible to small businesses with limited budget...",
          "Type: beliefs-and-values<br>Text: **Open-source contributions**: Share code that could help other developers. Bug fixes, documentation...",
          "Type: beliefs-and-values<br>Text: **Team member's serious mistake**: Developer made error that cost client ₦2M. Fire him as example, o...",
          "Type: beliefs-and-values<br>Text: **Fair compensation as we grow**: How much should I pay myself vs reinvest vs pay team? What's fair ...",
          "Type: beliefs-and-values<br>Text: **What's the ethical limit of automation?**: If our tools replace human jobs (which they do), are we...",
          "Type: beliefs-and-values<br>Text: **Integrity costs but it compounds**: Lost multiple deals by refusing to compromise. But the deals I...",
          "Type: beliefs-and-values<br>Text: # Spirituality\n\n## Faith\n\n### Religious Beliefs\n\nI'm a Christian - evangelical/Pentecostal tradition...",
          "Type: beliefs-and-values<br>Text: I believe God has a purpose for my life - part of that is using my software engineering gifts to ser...",
          "Type: beliefs-and-values<br>Text: **Sunday worship (weekly)**: Attend my church in Enugu every Sunday morning. It's non-negotiable eve...",
          "Type: beliefs-and-values<br>Text: **Gratitude practice (daily)**: Every night, I journal three things I'm grateful for. This spiritual...",
          "Type: beliefs-and-values<br>Text: **Favorite passages**:\n\n- Proverbs 3:5-6 (Trust in the Lord, acknowledge Him) - guides my decision-m...",
          "Type: beliefs-and-values<br>Text: ### Faith Journey\n\n**Childhood faith**: Grew up in Christian home. Church every Sunday was mandatory...",
          "Type: beliefs-and-values<br>Text: **2022 near-bankruptcy**: Rock bottom moment. Prayed desperately. When the ₦18M deal came through da...",
          "Type: beliefs-and-values<br>Text: I believe I'm called to represent Christian values in tech - integrity when others cut corners, gene...",
          "Type: beliefs-and-values<br>Text: I see God in nature - the complexity of the universe mirrors the complexity of code and systems. Cre...",
          "Type: beliefs-and-values<br>Text: **Worship experiences**: Few times during worship service where I felt completely lost in God's pres...",
          "Type: beliefs-and-values<br>Text: **Meaning of life**: Loving God and loving people. Jesus said those are the two greatest commandment...",
          "Type: beliefs-and-values<br>Text: ### Intuition\n\nI believe the Holy Spirit guides believers through inner conviction and wisdom. Some ...",
          "Type: beliefs-and-values<br>Text: ### Meditation and Contemplation\n\nI don't practice Eastern meditation, but I do Christian contemplat...",
          "Type: beliefs-and-values<br>Text: **Intercessory prayer**: Pray for specific people - my team members by name, family, friends, even d...",
          "Type: beliefs-and-values<br>Text: **Solitude**: Monthly, I take half a day alone (usually Saturday afternoon) for extended prayer, ref...",
          "Type: beliefs-and-values<br>Text: **Age 18 - Owning my faith at Portsmouth**: Moved from inherited belief to personal conviction. Join...",
          "Type: beliefs-and-values<br>Text: **Age 29 - Learning to hear God's voice**: Getting better at distinguishing God's voice from my own ...",
          "Type: beliefs-and-values<br>Text: **Marketplace ministry**: Understanding how business can be ministry. Reading books on kingdom busin...",
          "Type: beliefs-and-values<br>Text: Understanding grace better - not just salvation by grace but daily living by grace. I can't earn God...",
          "Type: beliefs-and-values<br>Text: I'm learning to care for environment as stewardship - God created it, entrusted it to humans. Enviro...",
          "Type: beliefs-and-values<br>Text: **Love for enemies**: Hardest teaching of Jesus but I'm trying to live it. When clients are difficul...",
          "Type: beliefs-and-values<br>Text: **Love for team**: Genuinely care about my team's growth and wellbeing, not just their productivity....",
          "Type: beliefs-and-values<br>Text: # Philosophy\n\n## Worldview\n\n### Understanding of Reality\n\nI believe reality is both physical and spi...",
          "Type: beliefs-and-values<br>Text: **Causation**: Universe operates on cause and effect (which makes software engineering possible), bu...",
          "Type: beliefs-and-values<br>Text: **Being and becoming**: Reality is both - there are eternal truths (God's nature, moral law) and dyn...",
          "Type: beliefs-and-values<br>Text: **Justified belief**: What makes belief rational? Evidence, coherence with other beliefs, explanator...",
          "Type: beliefs-and-values<br>Text: ### Metaphysical Beliefs\n\n**God exists**: The eternal, omnipotent, omniscient, good Creator who sust...",
          "Type: beliefs-and-values<br>Text: ## Reasoning About Existence\n\n### Why We're Here\n\n**From God's perspective**: We exist because God w...",
          "Type: beliefs-and-values<br>Text: ### Meaning of Life\n\n**Primary meaning**: Loving God and loving people. Jesus reduced entire law to ...",
          "Type: beliefs-and-values<br>Text: **Contributive meaning**: Making the world better than I found it. Even small contributions matter. ...",
          "Type: beliefs-and-values<br>Text: ### Human Condition\n\n**Created good, fallen, redeemable**: Humans are made in God's image (inherent ...",
          "Type: beliefs-and-values<br>Text: ## Philosophical Influences\n\n### Philosophical Schools of Thought\n\n**Christian philosophy**: Primary...",
          "Type: beliefs-and-values<br>Text: **Analytic philosophy**: Clear thinking, logical rigor, precise language. Helpful for technical work...",
          "Type: beliefs-and-values<br>Text: **Dallas Willard**: Contemporary philosopher. Integration of spiritual formation and philosophy. \"Th...",
          "Type: beliefs-and-values<br>Text: **Problem of evil**: How can good God allow suffering? Don't have complete answer, but free will def...",
          "Type: beliefs-and-values<br>Text: **Portsmouth years (18-21)**: Engaged seriously with philosophy in university. Took epistemology, et...",
          "Type: beliefs-and-values<br>Text: **Excellence in all things**: Whether coding, praying, or making jollof rice. Whatever I do, do it t...",
          "Type: beliefs-and-values<br>Text: **Community over individualism**: Do life with others. Share burdens, celebrate wins, learn together...",
          "Type: beliefs-and-values<br>Text: **Growth**: Becoming more than I was. Dying better than I was born.\n\n**At life's end**: Will I hear ...",
          "Type: beliefs-and-values<br>Text: **Logic and faith**: Not faith vs reason but faith and reason together. Love God with all my mind (l...",
          "Type: beliefs-and-values<br>Text: **Process matters**: How I achieve goals matters as much as achieving them. Can't sacrifice integrit...",
          "Type: beliefs-and-values<br>Text: **Continuity of self**: Am I same person I was at 10? Physically, every cell has changed. But someth...",
          "Type: beliefs-and-values<br>Text: **God's sovereignty and human freedom**: This is mystery. Bible affirms both. I don't fully understa...",
          "Type: beliefs-and-values<br>Text: **How I want to die**: At peace with God, having lived fully, surrounded by loved ones, knowing I us...",
          "Type: beliefs-and-values<br>Text: **Truth and love together**: Caring about truth isn't cold rationalism. Truth sets free. Love withou...",
          "Type: beliefs-and-values<br>Text: **Evening**: Gratitude journal (recognize blessings), review day (did I live my values?), prepare to...",
          "Type: beliefs-and-values<br>Text: **Stewardship framework**: Everything I have (money, talent, time, opportunities) is entrusted to me...",
          "Type: beliefs-and-values<br>Text: **Christian mystics**: Not heavily studied but appreciate contemplative tradition - Brother Lawrence...",
          "Type: beliefs-and-values<br>Text: Everything coheres. No compartmentalization. One integrated life under God's lordship. That's applie...",
          "Type: knowledge-and-learning<br>Text: # Academics\n\n## Formal Education\n\n### Degrees and Certifications\n\n**BSc Computing, First Class Honou...",
          "Type: knowledge-and-learning<br>Text: **Google Cloud Digital Leader** (2024): Took this to understand GCP since some clients prefer it ove...",
          "Type: knowledge-and-learning<br>Text: **University of Portsmouth, UK** (2013-2017): This transformed my life. Modern facilities, accessibl...",
          "Type: knowledge-and-learning<br>Text: ### Major Fields of Study\n\n**Software Engineering**: My core competency. Learned software design pat...",
          "Type: knowledge-and-learning<br>Text: **Web Technologies**: Full-stack development - front-end, back-end, APIs, deployment. Built multiple...",
          "Type: knowledge-and-learning<br>Text: **Dean's List** (2015, 2016, 2017): Made the Dean's List three out of four years. Missed it in first...",
          "Type: knowledge-and-learning<br>Text: **Third Year Group Project: \"Healthcare Appointment Scheduling System\"** (2015-2016): Team of 4. I w...",
          "Type: knowledge-and-learning<br>Text: ### Publications\n\nHaven't published academically yet, but it's a goal. I have two potential papers:\n...",
          "Type: knowledge-and-learning<br>Text: **LLM applications for emerging markets**: How do we build AI tools that work well with Nigerian Pid...",
          "Type: knowledge-and-learning<br>Text: **Quantitative Analysis**: Statistical analysis, A/B testing, hypothesis testing. I use this constan...",
          "Type: knowledge-and-learning<br>Text: ## Specialized Training\n\n### Professional Certifications\n\n**AWS Certified Solutions Architect - Asso...",
          "Type: knowledge-and-learning<br>Text: **Planning to get: TensorFlow Developer Certificate** (2025): Want formal validation of my ML skills...",
          "Type: knowledge-and-learning<br>Text: **TechCabal Battlefield Workshop** (2024): Pitch preparation and presentation skills for founders. H...",
          "Type: knowledge-and-learning<br>Text: ### Continuing Education\n\nI spend 10-15 hours/week on learning:\n\n- **Coursera**: Currently taking An...",
          "Type: knowledge-and-learning<br>Text: ## Academic Interests\n\n### Current Areas of Study\n\n**Large Language Models**: Obsessed with understa...",
          "Type: knowledge-and-learning<br>Text: ### Emerging Interests\n\n**Multimodal AI**: Models that work with text, images, and potentially voice...",
          "Type: knowledge-and-learning<br>Text: **Software Engineering + ML**: I'm learning that building ML systems requires different engineering ...",
          "Type: knowledge-and-learning<br>Text: **Mandarin**: Random goal but I want to learn Chinese. China's tech ecosystem is huge and I want to ...",
          "Type: knowledge-and-learning<br>Text: # Insights\n\n## Lessons Learned Through Experience\n\n### Career Lessons\n\n**Technical skill alone isn't...",
          "Type: knowledge-and-learning<br>Text: **You can't do everything**: Took me 3 years to truly accept this. As founder, I tried to code, sell...",
          "Type: knowledge-and-learning<br>Text: **Actions speak louder than words**: My team doesn't care what I say about work-life balance if I'm ...",
          "Type: knowledge-and-learning<br>Text: ### Personal Growth Lessons\n\n**Therapy isn't weakness**: Stigma around mental health in Nigeria is r...",
          "Type: knowledge-and-learning<br>Text: **Rest is productive**: Pushing through burnout doesn't make you more productive. When I started tak...",
          "Type: knowledge-and-learning<br>Text: **Speed of recovery matters more than avoiding failure**: Everyone fails. The winners are those who ...",
          "Type: knowledge-and-learning<br>Text: **Nigeria is opportunity, not limitation**: Used to think I had to leave Nigeria to succeed in tech....",
          "Type: knowledge-and-learning<br>Text: ### Perspective Shifts\n\n**From scarcity to abundance**: Grew up thinking resources were limited, had...",
          "Type: knowledge-and-learning<br>Text: **From planning to adapting**: Used to make detailed 5-year plans. Now I have a direction and adapt ...",
          "Type: knowledge-and-learning<br>Text: **Understanding that time is my only finite resource**: I can make more money, gain more skills, bui...",
          "Type: knowledge-and-learning<br>Text: **From perfectionist to iterationist**: Used to want everything perfect before shipping. Now I ship ...",
          "Type: knowledge-and-learning<br>Text: **Celebrate wins**: I'm bad at this. I hit milestones and immediately focus on next goal. Learning t...",
          "Type: knowledge-and-learning<br>Text: ### From Others\n\n**From Mr. Okafor**: Invest in young people. Your time and belief can change their ...",
          "Type: knowledge-and-learning<br>Text: **My perfectionism is fear-based**: Through journaling, I realized I'm perfectionist because I'm afr...",
          "Type: knowledge-and-learning<br>Text: **Excellence without excuse**: Do quality work regardless of circumstances. Nigeria has challenges b...",
          "Type: knowledge-and-learning<br>Text: **1-on-1s with team**: Weekly or biweekly 1-on-1s with each team member. Learned this from managemen...",
          "Type: knowledge-and-learning<br>Text: **10-10-10**: How will I feel about this decision in 10 minutes, 10 months, 10 years? Gives perspect...",
          "Type: knowledge-and-learning<br>Text: **Inversion**: Think about what would guarantee failure, then avoid those things. Charlie Munger's a...",
          "Type: knowledge-and-learning<br>Text: **How do we serve Nigerian SMEs profitably?**: They need help but have limited budgets. What's the s...",
          "Type: knowledge-and-learning<br>Text: **Neuroscience and learning**: How does the brain actually learn? Can I optimize how I learn and how...",
          "Type: knowledge-and-learning<br>Text: **Remote work changes everything**: Can hire from anywhere in Nigeria, can serve clients globally, c...",
          "Type: knowledge-and-learning<br>Text: # Skills\n\n## Technical Skills\n\n### Programming and Development\n\n**Python (Expert, 7 years)**: My pri...",
          "Type: knowledge-and-learning<br>Text: **HTML/CSS (Intermediate)**: Can build functional UIs but I'm not a designer. I know flexbox, grid, ...",
          "Type: knowledge-and-learning<br>Text: **Docker**: Containerize all our applications. Understand Dockerfile optimization, multi-stage build...",
          "Type: knowledge-and-learning<br>Text: **Postman**: API testing and documentation. Use it extensively for debugging our automation APIs.\n\n#...",
          "Type: knowledge-and-learning<br>Text: ### Technical Proficiencies\n\n**API Design**: Built numerous RESTful APIs. Understand versioning, aut...",
          "Type: knowledge-and-learning<br>Text: **Performance Optimization**: Profile code, identify bottlenecks, optimize database queries, impleme...",
          "Type: knowledge-and-learning<br>Text: **System Architecture Design**: This is where I'm creative - designing elegant solutions to complex ...",
          "Type: knowledge-and-learning<br>Text: I'm good at connecting ideas from different domains. The LLM RAG pattern I'm implementing at RoboOff...",
          "Type: knowledge-and-learning<br>Text: ## Soft Skills\n\n### Communication\n\n**Writing**: I can explain complex technical concepts clearly in ...",
          "Type: knowledge-and-learning<br>Text: ### Leadership\n\n**Vision Setting**: Can articulate where RoboOffice is going and why it matters. My ...",
          "Type: knowledge-and-learning<br>Text: **Coaching**: Good at helping team members level up. Tunde joined as junior dev, I mentored him, he'...",
          "Type: knowledge-and-learning<br>Text: ### Emotional Intelligence\n\n**Self-Awareness**: I know I'm a perfectionist who can be impatient. Kno...",
          "Type: knowledge-and-learning<br>Text: ### Project Management\n\n**Planning**: Break down complex projects into manageable tasks, estimate ti...",
          "Type: knowledge-and-learning<br>Text: **Information Management**: Document everything - project decisions, client conversations, technical...",
          "Type: knowledge-and-learning<br>Text: **Delegation**: Slowly learning to give work to team instead of doing everything myself.\n\n### Resour...",
          "Type: knowledge-and-learning<br>Text: **Enterprise Sales**: Taking online courses, reading books (SPIN Selling), getting coached. Need to ...",
          "Type: knowledge-and-learning<br>Text: **Negotiation**: Want to get better at contract negotiations, salary discussions, partnership deals....",
          "Type: knowledge-and-learning<br>Text: **Marketing**: Growth marketing, content marketing, SEO. We rely too much on referrals. Need to buil..."
         ],
         "type": "scatter",
         "x": {
          "bdata": "v/Wqwev8p8Ep0pzBxyySwSSbmMGJxnTB/7+EwUYrgsGkdIbBcOJIwS5PXMGJvpTBgwaPwQV/iMFJOo3Bms9fwbCCY8F6j2fBUuVnwSP8e8HP7onBGocxwcDbPcFN9ZHBa8yMwQd5HsDMcmPBgsguwDrJAMAweVzBXtuTwQZTk8H0T3rBClCBwbBqUb/tTW6/35TCvz0t3UDkpG9AnvrkwN77NcAbpWbBwHpfwVDCJcCqp6zAFBNnv9f4kcDJJL5AGgNpvWkb7sCsDYo/n+YePy5UHMHlDirB1IghQD4NrUDGa/k/nACnP7N1M8DoaQ3Acv2owD0qIME1Bog/kT5UQCjCOsBcyJe/APk9v4i69D/LSJ1AK0G5QF8Ft0Dycz/A0GKEwOLLisCbYaTA5ykNPmRe+j8XEhdBv/jFQOIOhT53lRg/leFGwXZoRUCwRVFAaBCEQUzdekGCg7dBmJy0QV24vUGniKhBY96JQQlwmUF+1J1BYZWcQeVmlUGiCoxBuE2PQfV6zEE7H53AwxyMwC+WnMDy9qXAPx9sQbOEUkHXesXAVyPKwL8I0MBschnBwltlwZAfd8FAnFPBgL3FQY21sEEKXPg/vkQJQU1WukEfiMVBJZK1QdicpEFblM5B6PrHQZv0zUEu208/6p+oQWYeGEHyxSZBmCIoQXBsNEFcGyNBMDYuQQebFUEv7QpBYgUZQeXdL0Ey7DdBQ9TCQAfzk0BqdHVBEV11QX1jm0GbpkA/pQVGPx3MUsDHaztAEFANQYtBHkGi3DFBVDc3Qdxw+kBTV+lAunJoQbpQMEE/luVAsTzzQIonCkE/Y1NB3uJEQeHJNEG+QkJBwSZjQcNYAUHR3U5B8EhVQUUwjUGnOYZB33F+QaZjgEFzsmtBDSwfQWXCHkHV+QpBfTMJQWGMEEHeOhtBOhbdwJua48DD9q/AsPn6wJqzEcFW1iXBJHYswaLc7MAq0t/AUNTVwDh1jMDhGn7AbKSIwESjXMD1yEbAHcTgv6AFAsEL9BPBdNQkwX77KMEPwcfA7wfMwIBYv8DCKtLAL10BwLMhyr5vANI/G82mwJHpp8Ck6PfA/FL1wPoA+MBvxAjBtKYMwdfjA8Hv6hBAMTzqP9xTdT91h60/Yt22wGTlTMFyRFPB9KlewbBo4sDuDNXAXWDVwDUUAsFsP+fAz4OwwAQDicAJkp7A21ZZwPcRkb9IM2C/a6Ppv9B97j6VqOS/ggwUwJXfJMCf3MW/roJuwG3BAMHQsRLBY8QcwQFkKsHvkj3A+gYuwHIHJMAY3DHAbeeIwM6ekkF4RoZBV5+uQcd1gkGR8ZZB4kGbQZHsF0Fs3BFBRf8TQYAQI0EKt4pBBcR8QZRWdEGqt79AmubQQHpy30CO76tAq7+YQOmHncCESq7Ai9SywKhaEsFdhBfBoQ0YwYyQrL9r/8zA3fjIwKg378BN7hPBllglwYQaCcExpRHB2CTxwG+0I8ERjjbBHnHQwCkZR0DZC3ZAplOUvyvQc0G1oHJBafNZQbf8WUEoXW5BWkx2wQaXdsH6dh5Be2G7QN5PkEATWYBAQwRrwVVuF8E3ARfBFGHQQE1IkEHT14lBGp6fQQ==",
          "dtype": "f4"
         },
         "y": {
          "bdata": "Mr+KwBu0iMABAHnAXQ7nwCVC3sA9VLO+wOWMwAh5zsD4PcbAE9ASviioIr9F2vu/TIUJwARXW8AUhqXAV1I5wfHOU8FHBgfBVQ3mwNZPFcH3lQrBlpHnv4Ba/r9//yvBYzYzwQsIh8CKByxA2vMCwWv0oMDKLZLAUPi7QNSgAkDvv1VABZ1RQP/PykAz/yXAXjxUwLPnAj/urJPApmCrwG8t/MCRBIdAerKWQF+ELsGgeMe/ZEkZvQKoEUHtV40+3mb3wD0PWUDSzE/Bz/pEwQKKDMHbFQ/BUpw4wOZYTcBlDW3AOe03wHRTnD+dKRNAdOwcQAQEV8AsGIu/2HiTv1Cd2EAjz4lA9xaCQFZAIUBI/sFAFUv1QFv3ykCNSSk+FQnLv7tSu79qTxVBODlOP3S6ET/quIY/ydLkwNbI4sBnDsjAnD+iwOx76MCo9O/AjfkHQWGA50ChE5NA14HkQCYn20AXkbJAydaoQP0PrUBLG9dAa1X7QLvm7UCsTOJANE0RQfkFckDKFdDAZuaiwGJflsB0LFbBuz2mQHIEj0AlzSbBjJUYwQnv/cBbRYDBbp3TvjltocBFV+HAa6QXQX7iM0FcP79AzCpvQFjaA0EG6Q1BIogfQVDm1EDGRKlAS/e2QAan7EDunABBbXULQYgYnT78PhC+6TU4wCcZscBvWPfAynXrwHNBdcCiJVfAmnc7QITsKEBIKls/cYO9v1MjyL//3yDAEWL/v0yaPkF9NfE/+E2NQP/SBUDHT8JAgo/HQNko3UDRPNNA9JHGQJzsOkBT26FAW8LxQPi8EEFbSe1ATHwBQSIBDEHBjNLAhqGWwJs/gcApsNLANjYKwYW6iD9dPQ2+kpMLvz8OxsBNKPTA8S4Awb0CosDtF3vAkRivwCSisr/UWn2/UJfYv+El7MD5YhbBxmuQQafFnUHQzXlB3XyVQZcInEH0Rp1BtWSdQcd+gkEgMG5BvIaGQQpsk0EhdI5Bch6BQdzNckFveGNBxMFmQVhkeUGgCnFB+yx8QZaHgkG2cpxBV5JxwQX1Y8G+a03B+4KHwS3OjcGfhZjBsy6AwY+GhcGzmp7BOp6hwS0whsHdloPBkdxXwTbJUsFrAYrBrdmRwUGmh8EGwWHBLpSVwRs6gcF3wnjBDARjwf/fu8FEAcnBSSPAwUbvzsGByMzB96jQwc/01sGKVtjBmBa7wdLzucEotrzBmhrBweO+qcFF7ajBWw5WwV2TZMEAsl/BH/JqwSMft8HiW7rBgCq8wcJRv8Ga9qjB5qWRwbNFmsGhbrLBEaWpwcLJB0B7tzZAnWlAQQhQZ0G1g1VBkZ5KQSq7OEHoG0ZBBj5YQVBBYUE+LLc/xU/TP91byT8G8YFBp4t1QZYhXUG7LlVB9c5bQecXu0DgFaVAmZWSQNxtkb8jEZK+gf9BP8xL+EAPFMk/opsWP2JSD0B4UwpAq7SkP3JaCsAauXvAcC/MQLAG3kBI8s1AZUblQPMGP0GaAUdB/D8HQdWZfEFjE4hBO3dXQaBKb0FnjHVBeEg3QfMrM0HVh4FBBsiQwDwZK0CCKFpAnHsNwVqRDEEC9wNB/IQLQBTCo8BrtofAq6zKwA==",
          "dtype": "f4"
         }
        }
       ],
       "layout": {
        "height": 600,
        "margin": {
         "b": 10,
         "l": 10,
         "r": 20,
         "t": 40
        },
        "scene": {
         "xaxis": {
          "title": {
           "text": "x"
          }
         },
         "yaxis": {
          "title": {
           "text": "y"
          }
         }
        },
        "template": {
         "data": {
          "bar": [
           {
            "error_x": {
             "color": "#2a3f5f"
            },
            "error_y": {
             "color": "#2a3f5f"
            },
            "marker": {
             "line": {
              "color": "#E5ECF6",
              "width": 0.5
             },
             "pattern": {
              "fillmode": "overlay",
              "size": 10,
              "solidity": 0.2
             }
            },
            "type": "bar"
           }
          ],
          "barpolar": [
           {
            "marker": {
             "line": {
              "color": "#E5ECF6",
              "width": 0.5
             },
             "pattern": {
              "fillmode": "overlay",
              "size": 10,
              "solidity": 0.2
             }
            },
            "type": "barpolar"
           }
          ],
          "carpet": [
           {
            "aaxis": {
             "endlinecolor": "#2a3f5f",
             "gridcolor": "white",
             "linecolor": "white",
             "minorgridcolor": "white",
             "startlinecolor": "#2a3f5f"
            },
            "baxis": {
             "endlinecolor": "#2a3f5f",
             "gridcolor": "white",
             "linecolor": "white",
             "minorgridcolor": "white",
             "startlinecolor": "#2a3f5f"
            },
            "type": "carpet"
           }
          ],
          "choropleth": [
           {
            "colorbar": {
             "outlinewidth": 0,
             "ticks": ""
            },
            "type": "choropleth"
           }
          ],
          "contour": [
           {
            "colorbar": {
             "outlinewidth": 0,
             "ticks": ""
            },
            "colorscale": [
             [
              0,
              "#0d0887"
             ],
             [
              0.1111111111111111,
              "#46039f"
             ],
             [
              0.2222222222222222,
              "#7201a8"
             ],
             [
              0.3333333333333333,
              "#9c179e"
             ],
             [
              0.4444444444444444,
              "#bd3786"
             ],
             [
              0.5555555555555556,
              "#d8576b"
             ],
             [
              0.6666666666666666,
              "#ed7953"
             ],
             [
              0.7777777777777778,
              "#fb9f3a"
             ],
             [
              0.8888888888888888,
              "#fdca26"
             ],
             [
              1,
              "#f0f921"
             ]
            ],
            "type": "contour"
           }
          ],
          "contourcarpet": [
           {
            "colorbar": {
             "outlinewidth": 0,
             "ticks": ""
            },
            "type": "contourcarpet"
           }
          ],
          "heatmap": [
           {
            "colorbar": {
             "outlinewidth": 0,
             "ticks": ""
            },
            "colorscale": [
             [
              0,
              "#0d0887"
             ],
             [
              0.1111111111111111,
              "#46039f"
             ],
             [
              0.2222222222222222,
              "#7201a8"
             ],
             [
              0.3333333333333333,
              "#9c179e"
             ],
             [
              0.4444444444444444,
              "#bd3786"
             ],
             [
              0.5555555555555556,
              "#d8576b"
             ],
             [
              0.6666666666666666,
              "#ed7953"
             ],
             [
              0.7777777777777778,
              "#fb9f3a"
             ],
             [
              0.8888888888888888,
              "#fdca26"
             ],
             [
              1,
              "#f0f921"
             ]
            ],
            "type": "heatmap"
           }
          ],
          "histogram": [
           {
            "marker": {
             "pattern": {
              "fillmode": "overlay",
              "size": 10,
              "solidity": 0.2
             }
            },
            "type": "histogram"
           }
          ],
          "histogram2d": [
           {
            "colorbar": {
             "outlinewidth": 0,
             "ticks": ""
            },
            "colorscale": [
             [
              0,
              "#0d0887"
             ],
             [
              0.1111111111111111,
              "#46039f"
             ],
             [
              0.2222222222222222,
              "#7201a8"
             ],
             [
              0.3333333333333333,
              "#9c179e"
             ],
             [
              0.4444444444444444,
              "#bd3786"
             ],
             [
              0.5555555555555556,
              "#d8576b"
             ],
             [
              0.6666666666666666,
              "#ed7953"
             ],
             [
              0.7777777777777778,
              "#fb9f3a"
             ],
             [
              0.8888888888888888,
              "#fdca26"
             ],
             [
              1,
              "#f0f921"
             ]
            ],
            "type": "histogram2d"
           }
          ],
          "histogram2dcontour": [
           {
            "colorbar": {
             "outlinewidth": 0,
             "ticks": ""
            },
            "colorscale": [
             [
              0,
              "#0d0887"
             ],
             [
              0.1111111111111111,
              "#46039f"
             ],
             [
              0.2222222222222222,
              "#7201a8"
             ],
             [
              0.3333333333333333,
              "#9c179e"
             ],
             [
              0.4444444444444444,
              "#bd3786"
             ],
             [
              0.5555555555555556,
              "#d8576b"
             ],
             [
              0.6666666666666666,
              "#ed7953"
             ],
             [
              0.7777777777777778,
              "#fb9f3a"
             ],
             [
              0.8888888888888888,
              "#fdca26"
             ],
             [
              1,
              "#f0f921"
             ]
            ],
            "type": "histogram2dcontour"
           }
          ],
          "mesh3d": [
           {
            "colorbar": {
             "outlinewidth": 0,
             "ticks": ""
            },
            "type": "mesh3d"
           }
          ],
          "parcoords": [
           {
            "line": {
             "colorbar": {
              "outlinewidth": 0,
              "ticks": ""
             }
            },
            "type": "parcoords"
           }
          ],
          "pie": [
           {
            "automargin": true,
            "type": "pie"
           }
          ],
          "scatter": [
           {
            "fillpattern": {
             "fillmode": "overlay",
             "size": 10,
             "solidity": 0.2
            },
            "type": "scatter"
           }
          ],
          "scatter3d": [
           {
            "line": {
             "colorbar": {
              "outlinewidth": 0,
              "ticks": ""
             }
            },
            "marker": {
             "colorbar": {
              "outlinewidth": 0,
              "ticks": ""
             }
            },
            "type": "scatter3d"
           }
          ],
          "scattercarpet": [
           {
            "marker": {
             "colorbar": {
              "outlinewidth": 0,
              "ticks": ""
             }
            },
            "type": "scattercarpet"
           }
          ],
          "scattergeo": [
           {
            "marker": {
             "colorbar": {
              "outlinewidth": 0,
              "ticks": ""
             }
            },
            "type": "scattergeo"
           }
          ],
          "scattergl": [
           {
            "marker": {
             "colorbar": {
              "outlinewidth": 0,
              "ticks": ""
             }
            },
            "type": "scattergl"
           }
          ],
          "scattermap": [
           {
            "marker": {
             "colorbar": {
              "outlinewidth": 0,
              "ticks": ""
             }
            },
            "type": "scattermap"
           }
          ],
          "scattermapbox": [
           {
            "marker": {
             "colorbar": {
              "outlinewidth": 0,
              "ticks": ""
             }
            },
            "type": "scattermapbox"
           }
          ],
          "scatterpolar": [
           {
            "marker": {
             "colorbar": {
              "outlinewidth": 0,
              "ticks": ""
             }
            },
            "type": "scatterpolar"
           }
          ],
          "scatterpolargl": [
           {
            "marker": {
             "colorbar": {
              "outlinewidth": 0,
              "ticks": ""
             }
            },
            "type": "scatterpolargl"
           }
          ],
          "scatterternary": [
           {
            "marker": {
             "colorbar": {
              "outlinewidth": 0,
              "ticks": ""
             }
            },
            "type": "scatterternary"
           }
          ],
          "surface": [
           {
            "colorbar": {
             "outlinewidth": 0,
             "ticks": ""
            },
            "colorscale": [
             [
              0,
              "#0d0887"
             ],
             [
              0.1111111111111111,
              "#46039f"
             ],
             [
              0.2222222222222222,
              "#7201a8"
             ],
             [
              0.3333333333333333,
              "#9c179e"
             ],
             [
              0.4444444444444444,
              "#bd3786"
             ],
             [
              0.5555555555555556,
              "#d8576b"
             ],
             [
              0.6666666666666666,
              "#ed7953"
             ],
             [
              0.7777777777777778,
              "#fb9f3a"
             ],
             [
              0.8888888888888888,
              "#fdca26"
             ],
             [
              1,
              "#f0f921"
             ]
            ],
            "type": "surface"
           }
          ],
          "table": [
           {
            "cells": {
             "fill": {
              "color": "#EBF0F8"
             },
             "line": {
              "color": "white"
             }
            },
            "header": {
             "fill": {
              "color": "#C8D4E3"
             },
             "line": {
              "color": "white"
             }
            },
            "type": "table"
           }
          ]
         },
         "layout": {
          "annotationdefaults": {
           "arrowcolor": "#2a3f5f",
           "arrowhead": 0,
           "arrowwidth": 1
          },
          "autotypenumbers": "strict",
          "coloraxis": {
           "colorbar": {
            "outlinewidth": 0,
            "ticks": ""
           }
          },
          "colorscale": {
           "diverging": [
            [
             0,
             "#8e0152"
            ],
            [
             0.1,
             "#c51b7d"
            ],
            [
             0.2,
             "#de77ae"
            ],
            [
             0.3,
             "#f1b6da"
            ],
            [
             0.4,
             "#fde0ef"
            ],
            [
             0.5,
             "#f7f7f7"
            ],
            [
             0.6,
             "#e6f5d0"
            ],
            [
             0.7,
             "#b8e186"
            ],
            [
             0.8,
             "#7fbc41"
            ],
            [
             0.9,
             "#4d9221"
            ],
            [
             1,
             "#276419"
            ]
           ],
           "sequential": [
            [
             0,
             "#0d0887"
            ],
            [
             0.1111111111111111,
             "#46039f"
            ],
            [
             0.2222222222222222,
             "#7201a8"
            ],
            [
             0.3333333333333333,
             "#9c179e"
            ],
            [
             0.4444444444444444,
             "#bd3786"
            ],
            [
             0.5555555555555556,
             "#d8576b"
            ],
            [
             0.6666666666666666,
             "#ed7953"
            ],
            [
             0.7777777777777778,
             "#fb9f3a"
            ],
            [
             0.8888888888888888,
             "#fdca26"
            ],
            [
             1,
             "#f0f921"
            ]
           ],
           "sequentialminus": [
            [
             0,
             "#0d0887"
            ],
            [
             0.1111111111111111,
             "#46039f"
            ],
            [
             0.2222222222222222,
             "#7201a8"
            ],
            [
             0.3333333333333333,
             "#9c179e"
            ],
            [
             0.4444444444444444,
             "#bd3786"
            ],
            [
             0.5555555555555556,
             "#d8576b"
            ],
            [
             0.6666666666666666,
             "#ed7953"
            ],
            [
             0.7777777777777778,
             "#fb9f3a"
            ],
            [
             0.8888888888888888,
             "#fdca26"
            ],
            [
             1,
             "#f0f921"
            ]
           ]
          },
          "colorway": [
           "#636efa",
           "#EF553B",
           "#00cc96",
           "#ab63fa",
           "#FFA15A",
           "#19d3f3",
           "#FF6692",
           "#B6E880",
           "#FF97FF",
           "#FECB52"
          ],
          "font": {
           "color": "#2a3f5f"
          },
          "geo": {
           "bgcolor": "white",
           "lakecolor": "white",
           "landcolor": "#E5ECF6",
           "showlakes": true,
           "showland": true,
           "subunitcolor": "white"
          },
          "hoverlabel": {
           "align": "left"
          },
          "hovermode": "closest",
          "mapbox": {
           "style": "light"
          },
          "paper_bgcolor": "white",
          "plot_bgcolor": "#E5ECF6",
          "polar": {
           "angularaxis": {
            "gridcolor": "white",
            "linecolor": "white",
            "ticks": ""
           },
           "bgcolor": "#E5ECF6",
           "radialaxis": {
            "gridcolor": "white",
            "linecolor": "white",
            "ticks": ""
           }
          },
          "scene": {
           "xaxis": {
            "backgroundcolor": "#E5ECF6",
            "gridcolor": "white",
            "gridwidth": 2,
            "linecolor": "white",
            "showbackground": true,
            "ticks": "",
            "zerolinecolor": "white"
           },
           "yaxis": {
            "backgroundcolor": "#E5ECF6",
            "gridcolor": "white",
            "gridwidth": 2,
            "linecolor": "white",
            "showbackground": true,
            "ticks": "",
            "zerolinecolor": "white"
           },
           "zaxis": {
            "backgroundcolor": "#E5ECF6",
            "gridcolor": "white",
            "gridwidth": 2,
            "linecolor": "white",
            "showbackground": true,
            "ticks": "",
            "zerolinecolor": "white"
           }
          },
          "shapedefaults": {
           "line": {
            "color": "#2a3f5f"
           }
          },
          "ternary": {
           "aaxis": {
            "gridcolor": "white",
            "linecolor": "white",
            "ticks": ""
           },
           "baxis": {
            "gridcolor": "white",
            "linecolor": "white",
            "ticks": ""
           },
           "bgcolor": "#E5ECF6",
           "caxis": {
            "gridcolor": "white",
            "linecolor": "white",
            "ticks": ""
           }
          },
          "title": {
           "x": 0.05
          },
          "xaxis": {
           "automargin": true,
           "gridcolor": "white",
           "linecolor": "white",
           "ticks": "",
           "title": {
            "standoff": 15
           },
           "zerolinecolor": "white",
           "zerolinewidth": 2
          },
          "yaxis": {
           "automargin": true,
           "gridcolor": "white",
           "linecolor": "white",
           "ticks": "",
           "title": {
            "standoff": 15
           },
           "zerolinecolor": "white",
           "zerolinewidth": 2
          }
         }
        },
        "title": {
         "text": "2D Chroma Vector Store Visualization"
        },
        "width": 800
       }
      }
     },
     "metadata": {},
     "output_type": "display_data"
    }
   ],
   "source": [
    "tsne = TSNE(n_components=2, random_state=42)\n",
    "reduced_vectors = tsne.fit_transform(vectors)\n",
    "\n",
    "# Create the 2D scatter plot\n",
    "fig = go.Figure(data=[go.Scatter(\n",
    "    x=reduced_vectors[:, 0],\n",
    "    y=reduced_vectors[:, 1],\n",
    "    mode='markers',\n",
    "    marker=dict(size=5, color=colors, opacity=0.8),\n",
    "    text=[f\"Type: {t}<br>Text: {d[:100]}...\" for t, d in zip(doc_types, documents)],\n",
    "    hoverinfo='text'\n",
    ")])\n",
    "\n",
    "fig.update_layout(\n",
    "    title='2D Chroma Vector Store Visualization',\n",
    "    scene=dict(xaxis_title='x',yaxis_title='y'),\n",
    "    width=800,\n",
    "    height=600,\n",
    "    margin=dict(r=20, b=10, l=10, t=40)\n",
    ")\n",
    "\n",
    "fig.show()"
   ]
  },
  {
   "cell_type": "code",
   "execution_count": 10,
   "id": "fc3e1024",
   "metadata": {},
   "outputs": [
    {
     "data": {
      "application/vnd.plotly.v1+json": {
       "config": {
        "plotlyServerURL": "https://plot.ly"
       },
       "data": [
        {
         "hoverinfo": "text",
         "marker": {
          "color": [
           "#FFA15A",
           "#FFA15A",
           "#FFA15A",
           "#FFA15A",
           "#FFA15A",
           "#FFA15A",
           "#FFA15A",
           "#FFA15A",
           "#FFA15A",
           "#FFA15A",
           "#FFA15A",
           "#FFA15A",
           "#FFA15A",
           "#FFA15A",
           "#FFA15A",
           "#FFA15A",
           "#FFA15A",
           "#FFA15A",
           "#FFA15A",
           "#FFA15A",
           "#FFA15A",
           "#FFA15A",
           "#FFA15A",
           "#FFA15A",
           "#FFA15A",
           "#FFA15A",
           "#FFA15A",
           "#FFA15A",
           "#FFA15A",
           "#FFA15A",
           "#FFA15A",
           "#FFA15A",
           "#FFA15A",
           "#FFA15A",
           "#FFA15A",
           "#FFA15A",
           "#FFA15A",
           "#FFA15A",
           "#FFA15A",
           "#FFA15A",
           "#FFA15A",
           "#FFA15A",
           "#FFA15A",
           "#FFA15A",
           "#FFA15A",
           "#FFA15A",
           "#FFA15A",
           "#FFA15A",
           "#FFA15A",
           "#FFA15A",
           "#FFA15A",
           "#FFA15A",
           "#FFA15A",
           "#FFA15A",
           "#FFA15A",
           "#FFA15A",
           "#FFA15A",
           "#FFA15A",
           "#FFA15A",
           "#FFA15A",
           "#FFA15A",
           "#FFA15A",
           "#FFA15A",
           "#FFA15A",
           "#FFA15A",
           "#FFA15A",
           "#FFA15A",
           "#FFA15A",
           "#FFA15A",
           "#FFA15A",
           "#FFA15A",
           "#FFA15A",
           "#FFA15A",
           "#FFA15A",
           "#FFA15A",
           "#FFA15A",
           "#FFA15A",
           "#FFA15A",
           "#FFA15A",
           "#FFA15A",
           "#FFA15A",
           "#FFA15A",
           "#FFA15A",
           "#FFA15A",
           "#EF553B",
           "#EF553B",
           "#EF553B",
           "#EF553B",
           "#EF553B",
           "#EF553B",
           "#EF553B",
           "#EF553B",
           "#EF553B",
           "#EF553B",
           "#EF553B",
           "#EF553B",
           "#EF553B",
           "#EF553B",
           "#EF553B",
           "#EF553B",
           "#EF553B",
           "#EF553B",
           "#EF553B",
           "#EF553B",
           "#EF553B",
           "#EF553B",
           "#EF553B",
           "#EF553B",
           "#EF553B",
           "#EF553B",
           "#EF553B",
           "#EF553B",
           "#EF553B",
           "#EF553B",
           "#EF553B",
           "#EF553B",
           "#EF553B",
           "#EF553B",
           "#EF553B",
           "#EF553B",
           "#EF553B",
           "#EF553B",
           "#EF553B",
           "#EF553B",
           "#AB63FA",
           "#AB63FA",
           "#AB63FA",
           "#AB63FA",
           "#AB63FA",
           "#AB63FA",
           "#AB63FA",
           "#AB63FA",
           "#AB63FA",
           "#AB63FA",
           "#AB63FA",
           "#AB63FA",
           "#AB63FA",
           "#AB63FA",
           "#AB63FA",
           "#AB63FA",
           "#AB63FA",
           "#AB63FA",
           "#AB63FA",
           "#AB63FA",
           "#AB63FA",
           "#AB63FA",
           "#AB63FA",
           "#AB63FA",
           "#AB63FA",
           "#AB63FA",
           "#AB63FA",
           "#AB63FA",
           "#AB63FA",
           "#AB63FA",
           "#AB63FA",
           "#AB63FA",
           "#AB63FA",
           "#AB63FA",
           "#AB63FA",
           "#AB63FA",
           "#AB63FA",
           "#AB63FA",
           "#AB63FA",
           "#AB63FA",
           "#AB63FA",
           "#AB63FA",
           "#AB63FA",
           "#AB63FA",
           "#AB63FA",
           "#AB63FA",
           "#AB63FA",
           "#AB63FA",
           "#AB63FA",
           "#AB63FA",
           "#636EFA",
           "#636EFA",
           "#636EFA",
           "#636EFA",
           "#636EFA",
           "#636EFA",
           "#636EFA",
           "#636EFA",
           "#636EFA",
           "#636EFA",
           "#636EFA",
           "#636EFA",
           "#636EFA",
           "#636EFA",
           "#636EFA",
           "#636EFA",
           "#636EFA",
           "#636EFA",
           "#636EFA",
           "#636EFA",
           "#636EFA",
           "#636EFA",
           "#636EFA",
           "#636EFA",
           "#636EFA",
           "#636EFA",
           "#636EFA",
           "#636EFA",
           "#636EFA",
           "#636EFA",
           "#636EFA",
           "#636EFA",
           "#636EFA",
           "#636EFA",
           "#636EFA",
           "#636EFA",
           "#636EFA",
           "#636EFA",
           "#636EFA",
           "#636EFA",
           "#636EFA",
           "#636EFA",
           "#636EFA",
           "#636EFA",
           "#636EFA",
           "#636EFA",
           "#636EFA",
           "#636EFA",
           "#636EFA",
           "#636EFA",
           "#636EFA",
           "#636EFA",
           "#636EFA",
           "#636EFA",
           "#636EFA",
           "#636EFA",
           "#636EFA",
           "#636EFA",
           "#636EFA",
           "#636EFA",
           "#636EFA",
           "#636EFA",
           "#636EFA",
           "#636EFA",
           "#636EFA",
           "#636EFA",
           "#636EFA",
           "#636EFA",
           "#636EFA",
           "#636EFA",
           "#00CC96",
           "#00CC96",
           "#00CC96",
           "#00CC96",
           "#00CC96",
           "#00CC96",
           "#00CC96",
           "#00CC96",
           "#00CC96",
           "#00CC96",
           "#00CC96",
           "#00CC96",
           "#00CC96",
           "#00CC96",
           "#00CC96",
           "#00CC96",
           "#00CC96",
           "#00CC96",
           "#00CC96",
           "#00CC96",
           "#00CC96",
           "#00CC96",
           "#00CC96",
           "#00CC96",
           "#00CC96",
           "#00CC96",
           "#00CC96",
           "#00CC96",
           "#00CC96",
           "#00CC96",
           "#00CC96",
           "#00CC96",
           "#00CC96",
           "#00CC96",
           "#00CC96",
           "#00CC96",
           "#00CC96",
           "#00CC96",
           "#00CC96",
           "#00CC96",
           "#00CC96",
           "#00CC96",
           "#00CC96",
           "#00CC96",
           "#00CC96",
           "#00CC96",
           "#00CC96",
           "#00CC96",
           "#00CC96",
           "#00CC96",
           "#00CC96",
           "#00CC96",
           "#00CC96",
           "#00CC96",
           "#00CC96",
           "#00CC96",
           "#00CC96"
          ],
          "opacity": 0.8,
          "size": 5
         },
         "mode": "markers",
         "text": [
          "Type: reflections<br>Text: # Emotions\n\n## Feelings\n\n### Current Emotional State\n\nRight now (late 2024), I'm feeling a mix of ex...",
          "Type: reflections<br>Text: ### Dominant Emotions\n\n**Day-to-day**: I experience determination most frequently. Wake up with purp...",
          "Type: reflections<br>Text: **Contentment**: Growing emotion. I used to always be restless, wanting more. Learning to be satisfi...",
          "Type: reflections<br>Text: I'm learning I'm more emotional than I thought. Nigerian male culture teaches emotional suppression....",
          "Type: reflections<br>Text: **Seasonal**: Rainy season in Enugu (April-October) affects my mood slightly - feel more introspecti...",
          "Type: reflections<br>Text: **To praise**: Uncomfortable honestly. I deflect to team (\"they did the work\"). Growing up with mode...",
          "Type: reflections<br>Text: **Negative triggers**:\n\n- Disrespect to my team - immediate anger\n- Dishonesty/corruption - frustrat...",
          "Type: reflections<br>Text: For sadness or disappointment: I let myself feel it (crying is okay), pray, journal, sleep on it. Us...",
          "Type: reflections<br>Text: **Physical**: Emotions show in my body. Stress = tight shoulders. Anxiety = upset stomach. Excitemen...",
          "Type: reflections<br>Text: I'm learning this is both strength (drives continuous improvement) and weakness (never satisfied, ca...",
          "Type: reflections<br>Text: ### To Change\n\n**Example**: Andela changed course schedule mid-program. My reaction: frustrated (I'd...",
          "Type: reflections<br>Text: **Rejection**: Hurts but I'm resilient. Lost client or pitch feels bad for a day then I move on. Per...",
          "Type: reflections<br>Text: **Frequency**: Daily small joys, weekly significant happiness (Sunday worship, team wins), occasiona...",
          "Type: reflections<br>Text: **Allowing sadness**: Nigerian culture says \"be strong, no crying.\" I'm learning sadness isn't weakn...",
          "Type: reflections<br>Text: **Expression**: I'm learning healthy anger expression. Used to suppress or let it leak out passive-a...",
          "Type: reflections<br>Text: **Irrational/disproportionate fears**:\n\n- Running out of money (even though we're profitable)\n- Bein...",
          "Type: reflections<br>Text: **Familial love**: Deep love for parents, siblings. Express it through providing financially, spendi...",
          "Type: reflections<br>Text: ## Emotional Intelligence\n\n### Self-Awareness\n\nI'm getting better at recognizing emotions in real-ti...",
          "Type: reflections<br>Text: - Pausing before reacting (especially anger)\n- Breathing techniques when anxious\n- Reframing situati...",
          "Type: reflections<br>Text: **I'm learning**:\n\n- To ask instead of assume (\"how are you feeling about this?\")\n- That people proc...",
          "Type: reflections<br>Text: **Cultural awareness**: Understand Nigerian communication (indirect sometimes, respect for hierarchy...",
          "Type: reflections<br>Text: **From ashamed of struggle to accepting it**: Used to think struggles meant I was failing. Now I see...",
          "Type: reflections<br>Text: **From scarcity anxiety**: Growing up with financial stress left mark. Still have irrational money a...",
          "Type: reflections<br>Text: **Saying \"I don't know\" without shame**: Used to feel like admitting ignorance was weakness. Now I c...",
          "Type: reflections<br>Text: **More willing to sit with discomfort**: Not every problem needs immediate solving. Sometimes sittin...",
          "Type: reflections<br>Text: # Thoughts\n\n## Introspections\n\n### Self-Examination\n\nRight now (late 2024), I'm questioning whether ...",
          "Type: reflections<br>Text: My relationship with money is complex. Grew up with financial scarcity, so part of me still operates...",
          "Type: reflections<br>Text: **Sunday me**: \"This week was wild. God is good though. He's been faithful through everything.\" (Gra...",
          "Type: reflections<br>Text: **Purpose questions**: Is serving Nigerian SMEs enough or should I be thinking bigger - pan-African,...",
          "Type: reflections<br>Text: My stress shows up physically - tight shoulders, headaches, poor sleep. I'm learning to recognize th...",
          "Type: reflections<br>Text: ## Raw Inner Monologue\n\n### Stream of Consciousness\n\n_(Saturday morning, working on Andela assignmen...",
          "Type: reflections<br>Text: _(Tuesday, difficult client call)_\n\"He's complaining again about the timeline. We agreed on 8 weeks....",
          "Type: reflections<br>Text: When a client is rude, my first thought is often \"who does he think he is?\" Then I catch myself and ...",
          "Type: reflections<br>Text: I have proud thoughts sometimes - \"I'm better than most developers I meet\" - and I immediately check...",
          "Type: reflections<br>Text: **Overcoming narrative**: \"I came from modest background in Enugu, got scholarship to Portsmouth des...",
          "Type: reflections<br>Text: **Growth narrative**: \"Every challenge is making me better. Failed startup taught me. Near-bankruptc...",
          "Type: reflections<br>Text: **Andela program completion**: Week 6 of 8. I'm doing well but final project is make-or-break. Need ...",
          "Type: reflections<br>Text: **AI's impact on software engineering**: LLMs like GitHub Copilot are changing how we code. In 5 yea...",
          "Type: reflections<br>Text: **Secondary**: RoboOffice growth - sales pipeline, product roadmap, team development. This is ongoin...",
          "Type: reflections<br>Text: I'm also very analytical - break problems into components, analyze each, synthesize solutions. Good ...",
          "Type: reflections<br>Text: **Am I doing enough?**: This question haunts me. We're growing, but could we grow faster? I'm mentor...",
          "Type: reflections<br>Text: ### Repeated Thoughts\n\n**Comparison**: I catch myself comparing RoboOffice to other startups. They r...",
          "Type: reflections<br>Text: **Legacy thoughts**: What will I leave behind? When I'm 60, what will I be proud of? This thought mo...",
          "Type: reflections<br>Text: **Productivity guilt loop**: \"Spent 3 hours in meetings. Didn't write any code. Wasn't productive. B...",
          "Type: reflections<br>Text: **Learning and growth**: Obsessed with becoming better. Better engineer, better leader, better Chris...",
          "Type: reflections<br>Text: **Connecting faith and work**: Reading Tim Keller's \"Every Good Endeavor.\" Realized work itself is w...",
          "Type: reflections<br>Text: **Team culture is competitive moat**: Our zero turnover, team loyalty, collaborative culture - compe...",
          "Type: reflections<br>Text: ### Organized Thinking\n\n**RoboOffice 2025 Strategy (clear framework)**:\n\n1. Product: Launch LLM-powe...",
          "Type: reflections<br>Text: **Friday weekly reviews**: Every Friday 4-5 PM, I review the week. What worked? What didn't? What di...",
          "Type: reflections<br>Text: **From \"competition is threat\" to \"abundance mindset\"**: Other Nigerian automation companies succeed...",
          "Type: reflections<br>Text: ### Deepening Understanding\n\n**Understanding of faith**: Moving from \"God who helps me succeed\" to \"...",
          "Type: reflections<br>Text: **Understanding of success**: From \"make money, gain recognition\" to \"faithful stewardship, lasting ...",
          "Type: reflections<br>Text: **More focus on rest**: Finally accepting that rest isn't wasteful. Sabbath, sleep, vacation - these...",
          "Type: reflections<br>Text: **Meta-cognition improving**: I'm thinking about my thinking. Noticing my mental patterns, biases, l...",
          "Type: reflections<br>Text: # Growth Journal\n\n## Ongoing Evolution of Self\n\n### Current Growth Phase\n\nI'm in what I call my \"sca...",
          "Type: reflections<br>Text: ### Areas of Active Development\n\n**Leadership skills**: Reading management books (Radical Candor, Hi...",
          "Type: reflections<br>Text: **Public communication**: Writing technical articles, speaking at conferences, active on Twitter. Bu...",
          "Type: reflections<br>Text: **Risk tolerance**: From cautious bootstrapper to considering fundraising. Shifting from \"preserve w...",
          "Type: reflections<br>Text: **Team feedback**: Quarterly survey shows 9/10 satisfaction with leadership (up from 7/10 last year)...",
          "Type: reflections<br>Text: **Humility**: Portsmouth and building RoboOffice humbled me. Learning to say \"I don't know,\" admit m...",
          "Type: reflections<br>Text: **Leadership**:\n\n- 1-on-1s (from awkward to valuable)\n- Feedback delivery (from avoiding to direct +...",
          "Type: reflections<br>Text: **From scarcity to abundance**: Nigerian upbringing created scarcity mindset. Learning there's enoug...",
          "Type: reflections<br>Text: **Regular exercise**: Gym 3x/week since September 2024. Not perfect but consistent. Physical health ...",
          "Type: reflections<br>Text: **Scaling leadership**: Team is growing (8 now, targeting 15 by end of 2025). My leadership needs to...",
          "Type: reflections<br>Text: **Competitive pressure**: Bigger, funded companies entering our market. How do we compete with deep ...",
          "Type: reflections<br>Text: **Financial planning**: Working with accountant and Dr. Adeyemi to model fundraising scenarios. Maki...",
          "Type: reflections<br>Text: **Support system**: Chidi, Dr. Adeyemi, Pastor Obi, therapist. Multiple sources of strength and wisd...",
          "Type: reflections<br>Text: **Burnout episodes (2021, 2023)**: Taught me I'm not invincible, rest isn't optional, boundaries are...",
          "Type: reflections<br>Text: **2023**:\n\n- Hit ₦50M annual revenue\n- Grew team to 8 people\n- Moved to better office space\n- Starte...",
          "Type: reflections<br>Text: - \"You're much better at listening now\"\n- \"Clear vision, we know where we're going\"\n- \"Trust us more...",
          "Type: reflections<br>Text: **Business**:\n\n- Revenue: ₦800k (2019) → ₦50M (2023) = 6,150% growth\n- Team: 0 → 8 employees\n- Clien...",
          "Type: reflections<br>Text: ### Qualitative Changes\n\n**Peace**: Despite more responsibility, more peace than 3 years ago. Sabbat...",
          "Type: reflections<br>Text: **Satisfaction**: More satisfied with life even though I'm still ambitious. Can hold contentment and...",
          "Type: reflections<br>Text: **This year**: Learned that public sharing (Twitter, blog posts, talks) creates unexpected opportuni...",
          "Type: reflections<br>Text: **Team culture as moat**: Realized our zero-turnover, high-trust culture is competitive advantage co...",
          "Type: reflections<br>Text: **Invested in team development**: Used to spend training budget mostly on myself. Now 60% goes to te...",
          "Type: reflections<br>Text: **Age 28 - \"I can't do everything\"**: Hitting burnout wall, realized delegation isn't weakness. This...",
          "Type: reflections<br>Text: **Next quarter (Q1 2025)**: Launch LLM document processing product, speak at TechCabal, publish 3 bl...",
          "Type: reflections<br>Text: **10-year**: Multiple successful businesses built, 100+ jobs created directly, 1,000+ developers men...",
          "Type: reflections<br>Text: ### Continuous Improvement\n\n**Daily practice**:\n\n- 5:30 AM wake, prayer, Bible, journal (30 min)\n- D...",
          "Type: reflections<br>Text: **Feedback loops**: Quarterly team surveys, monthly client check-ins, regular mentor conversations, ...",
          "Type: reflections<br>Text: **From team**: \"We want more context on strategic decisions.\" Started monthly all-hands where I shar...",
          "Type: reflections<br>Text: **Pattern recognition**: I avoid conflict initially, then when forced to address it, I'm direct. Nee...",
          "Type: reflections<br>Text: **Experimentation**: Testing different approaches - pricing models, management styles, product featu...",
          "Type: identity<br>Text: # Relationships\n\n## Social Bonds\n\n### Close Friendships\n\n**Emmanuel** is my best friend since univer...",
          "Type: identity<br>Text: ### Professional Networks\n\nI'm active in the Enugu Tech Community - we meet monthly at the Hub. I've...",
          "Type: identity<br>Text: In my neighborhood in Enugu, I'm known as \"the computer guy.\" Neighbors bring me their laptops to fi...",
          "Type: identity<br>Text: **Emeka** (22) is at UNN studying Computer Science. He's brilliant but lazy - has the potential to b...",
          "Type: identity<br>Text: **My grandfather** (dad's dad) is 82 and still sharp. He doesn't get the tech stuff at all, but he l...",
          "Type: identity<br>Text: ### Family Values and Traditions\n\n**Education first**: My parents mortgaged everything for our educa...",
          "Type: identity<br>Text: **Sarah Chen** from Andela is my current mentor for the LLM program. She's a ML engineer based in Si...",
          "Type: identity<br>Text: ### Inspirational Figures\n\n**Jason Njoku** (Iroko TV founder) showed me it was possible to build a s...",
          "Type: identity<br>Text: My team at RoboOffice keeps me humble. My junior developer, Tunde, who's 23, often has fresher persp...",
          "Type: identity<br>Text: **Professor Williams** at Portsmouth taught me to think like an engineer, not just a coder. That dis...",
          "Type: identity<br>Text: My brother Emeka, despite being rebellious, is studying CS partly because he saw me succeed with it....",
          "Type: identity<br>Text: **My accountability partner Ifeanyi** and I push each other. When he raised his pre-seed round, it m...",
          "Type: identity<br>Text: The relationships with my family keep me grounded. When I'm getting too caught up in tech world dram...",
          "Type: identity<br>Text: # Personality\n\n## Core Traits\n\n### Strengths\n\nMy name is Hope Ogbons, single Male living in Lagos, t...",
          "Type: identity<br>Text: I love learning new things - right now I'm trying to teach myself piano in my spare time, though my ...",
          "Type: identity<br>Text: I have strong problem-solving abilities - last month, I optimized one of our automation workflows an...",
          "Type: identity<br>Text: I struggle with delegation. As CEO, I should be focusing on strategy, but I still find myself writin...",
          "Type: identity<br>Text: I'm generally optimistic and energetic. Even when a client project goes sideways, I approach it as a...",
          "Type: identity<br>Text: **Family**: Even though I'm single, family is huge. I send money home to my parents in Enugu every m...",
          "Type: identity<br>Text: ### Professional Values\n\n**Excellence**: At RoboOffice, we don't ship mediocre code. I review every ...",
          "Type: identity<br>Text: ### Non-Negotiables\n\nI will never compromise on my faith - business meetings don't happen during Sun...",
          "Type: identity<br>Text: By 7 AM, I'm at my desk writing code or reviewing pull requests - that's my peak productivity window...",
          "Type: identity<br>Text: ### Behavioral Patterns\n\nWhen I'm stressed, I clean code. Refactoring calms me down - there's someth...",
          "Type: identity<br>Text: But I also trust my gut, especially for business decisions. When I had the opportunity to join Andel...",
          "Type: identity<br>Text: **Failure**: I take failures hard initially. When our first product launch flopped in 2021, I was de...",
          "Type: identity<br>Text: **Negative triggers**: Incompetence frustrates me deeply, especially when it affects clients. Dishon...",
          "Type: identity<br>Text: I'm working on self-regulation. My natural instinct when a client gives terrible feedback is to defe...",
          "Type: identity<br>Text: # Background\n\n## Life Story\n\n### Early Years\n\nI was born in Enugu, Nigeria in 1995. My parents ran a...",
          "Type: identity<br>Text: ### Formative Experiences\n\nGetting into University of Portsmouth was transformative. It wasn't my fi...",
          "Type: identity<br>Text: Coming back to Nigeria after graduation was tough. Friends who stayed in the UK questioned why I'd r...",
          "Type: identity<br>Text: **Joining Andela (2024)**: I was comfortable, RoboOffice was profitable, but I felt stagnant. When I...",
          "Type: identity<br>Text: The transition from employee to CEO has been the hardest. One day I'm writing code with clear requir...",
          "Type: identity<br>Text: We grew up in a modest 3-bedroom flat in Independence Layout, Enugu. Dinner time was family time - n...",
          "Type: identity<br>Text: Getting into University of Portsmouth changed everything. The facilities, the library access, profes...",
          "Type: identity<br>Text: Growing up in Enugu, I also saw a lot of wasted potential - brilliant people stuck in low-opportunit...",
          "Type: identity<br>Text: ## Cultural Roots\n\n### Heritage and Ancestry\n\nI'm Igbo, from Enugu State. Our family is originally f...",
          "Type: identity<br>Text: Christmas is huge in our family. We travel to Enugu, there's always a massive family reunion, and Mo...",
          "Type: identity<br>Text: ### Geographic Influences\n\nGrowing up in Enugu - the coal city - shaped my no-nonsense approach. Enu...",
          "Type: identity<br>Text: That scarcity mindset has pros and cons. Pro: I'm very careful with RoboOffice finances - we have 6 ...",
          "Type: identity<br>Text: ### Access and Opportunities\n\nI had access to education, which put me ahead of many. My parents prio...",
          "Type: purpose-and-ambition<br>Text: # Career Vision\n\n## Professional Goals\n\n### Short-Term Goals (1-2 Years)\n\nBy the end of 2025, I want...",
          "Type: purpose-and-ambition<br>Text: I'm also planning to hire my first dedicated AI/ML engineer by mid-2025. I can't do all the LLM work...",
          "Type: purpose-and-ambition<br>Text: I also want to have launched at least one open-source tool that the Nigerian dev community actually ...",
          "Type: purpose-and-ambition<br>Text: Long-term, I'd like to teach part-time at a university - maybe UNN where my brother is studying - sh...",
          "Type: purpose-and-ambition<br>Text: Ultimately, I want to look back at 60 and know that I used my God-given talents fully, created oppor...",
          "Type: purpose-and-ambition<br>Text: ### What I Want to Be Known For\n\nI want to be known as the CEO who actually cared about his team - w...",
          "Type: purpose-and-ambition<br>Text: At RoboOffice, we're building tools that handle multiple Nigerian languages and understand local bus...",
          "Type: purpose-and-ambition<br>Text: The developers I've mentored going on to build their own companies or becoming CTO's somewhere - tha...",
          "Type: purpose-and-ambition<br>Text: I hope the next generation of Nigerian founders feel less alone because they can look back at storie...",
          "Type: purpose-and-ambition<br>Text: ### In-Progress Milestones\n\nCurrently finishing the Andela LLM Engineering program - on week 6 of 8,...",
          "Type: purpose-and-ambition<br>Text: Working on my first technical conference talk for TechCabal Battlefield - speaking about \"AI Automat...",
          "Type: purpose-and-ambition<br>Text: Get featured in TechCrunch or another major tech publication.\n\nSpeak at an international conference ...",
          "Type: purpose-and-ambition<br>Text: My current challenge is transitioning from founder-who-does-everything to CEO-who-leads-a-team. It's...",
          "Type: purpose-and-ambition<br>Text: Alternatively, I could see myself going into tech policy or education - using my experience to impro...",
          "Type: purpose-and-ambition<br>Text: **AI/ML at depth**: The Andela program is great, but I need to go deeper into transformer architectu...",
          "Type: purpose-and-ambition<br>Text: # Achievements\n\n## Personal Wins\n\n### Academic Achievements\n\n**First Class Honours from University o...",
          "Type: purpose-and-ambition<br>Text: ### Personal Growth Milestones\n\n**Started therapy in 2023**: Biggest personal growth decision I've m...",
          "Type: purpose-and-ambition<br>Text: **Built healthy boundaries with work**: In 2023, I instituted \"no work on Sundays\" rule for myself. ...",
          "Type: purpose-and-ambition<br>Text: **Learned to say no to family financial requests**: Culturally difficult but necessary. Had to set b...",
          "Type: purpose-and-ambition<br>Text: **From scarcity to generosity**: Growing up with financial anxiety made me stingy. I've learned to b...",
          "Type: purpose-and-ambition<br>Text: **Hit ₦10M in annual revenue (2021)**: First major revenue milestone. Proved this wasn't just a free...",
          "Type: purpose-and-ambition<br>Text: **Automated invoice processing for 12+ companies**: Our flagship product. Saves clients an average o...",
          "Type: purpose-and-ambition<br>Text: **Built an LLM-powered document Q&A system (in beta)**: My Andela capstone project. Uses RAG to let ...",
          "Type: purpose-and-ambition<br>Text: **Best Presentation at Andela LLM Week 5**: My RAG implementation demo was highlighted as the best i...",
          "Type: purpose-and-ambition<br>Text: **Cloud infrastructure**: AWS certified (Solutions Architect Associate, 2023). Can design and deploy...",
          "Type: purpose-and-ambition<br>Text: **Zero employee turnover in 2023**: In an industry where people job-hop constantly, all my team memb...",
          "Type: purpose-and-ambition<br>Text: **Taught 100+ students Python through Code Lagos**: Saturday sessions for 6 months. Completely volun...",
          "Type: purpose-and-ambition<br>Text: **Partnership with local university (UNN)**: Working with the CS department to provide internships. ...",
          "Type: purpose-and-ambition<br>Text: ## Quantifiable Results\n\n### Measurable Outcomes\n\n**₦50M in annual revenue** (2023), up from ₦20M in...",
          "Type: purpose-and-ambition<br>Text: **Sales conversion**: 45% of pitches convert to clients, up from 20% in 2020.\n\n**Client satisfaction...",
          "Type: purpose-and-ambition<br>Text: ### Documented Success\n\n**Case studies**: Written 4 detailed case studies of client projects. Using ...",
          "Type: purpose-and-ambition<br>Text: # Aspirations\n\n## Dreams\n\n### Personal Dreams\n\nI want to build a beautiful house in Enugu for my par...",
          "Type: purpose-and-ambition<br>Text: I dream of having enough financial security that my family never worries about money again. No more ...",
          "Type: purpose-and-ambition<br>Text: Speaking at a major international conference like AWS re:Invent or Google I/O would be incredible. R...",
          "Type: purpose-and-ambition<br>Text: There's a documentary idea I've been thinking about - profiling successful tech entrepreneurs from u...",
          "Type: purpose-and-ambition<br>Text: I want to own my time completely by 40. Wake up when I want, work on what I want, travel when I want...",
          "Type: purpose-and-ambition<br>Text: ## What I'm Striving Toward\n\n### Current Focus Areas\n\n**Mastering LLM engineering**: Right now, my m...",
          "Type: purpose-and-ambition<br>Text: **Improving my leadership skills**: Working with my therapist and reading extensively about manageme...",
          "Type: purpose-and-ambition<br>Text: **Public speaking**: Accepted to speak at TechCabal Battlefield in February 2025. Preparing the talk...",
          "Type: purpose-and-ambition<br>Text: **Business acumen**: Taking online courses in finance, fundraising, and growth strategy. I can code,...",
          "Type: purpose-and-ambition<br>Text: ### Experimentation and Exploration\n\n**Testing different LLM providers**: Experimenting with OpenAI,...",
          "Type: purpose-and-ambition<br>Text: **Testing pricing models**: Moving some clients from project-based to subscription pricing. Seeing i...",
          "Type: purpose-and-ambition<br>Text: A better communicator - able to inspire teams, convince investors, explain complex technical concept...",
          "Type: purpose-and-ambition<br>Text: **Management**: Lead a team of 50+ people effectively. Create a culture people love. Develop leaders...",
          "Type: purpose-and-ambition<br>Text: **Teach at a university**: Guest lecture or maybe a semester-long course at UNN. Share real-world kn...",
          "Type: purpose-and-ambition<br>Text: **Inspire a generation**: Show young people in Enugu, in the Southeast, in Nigeria that you can buil...",
          "Type: purpose-and-ambition<br>Text: **Learning**: Deep expertise in LLM deployment, started learning Japanese (random goal but why not),...",
          "Type: purpose-and-ambition<br>Text: **Skills**: Expert in AI/ML, excellent leader, confident public speaker, decent pianist.\n\n**Impact**...",
          "Type: purpose-and-ambition<br>Text: **Financial**: ₦500M+ net worth (roughly $500k at current rates). Enough that I work because I want ...",
          "Type: purpose-and-ambition<br>Text: I want to have been generous - with my money, my time, my knowledge. I want former mentees running t...",
          "Type: beliefs-and-values<br>Text: # Ethics\n\n## Moral Compass\n\n### Core Principles\n\n**Integrity above all**: I'd rather lose money than...",
          "Type: beliefs-and-values<br>Text: **Steward resources wisely**: Money (mine, clients', investors' eventually) is a trust. Don't waste ...",
          "Type: beliefs-and-values<br>Text: **Rights AND responsibilities**: I have rights as business owner, but also responsibilities to my te...",
          "Type: beliefs-and-values<br>Text: **I won't compromise my faith for business**: If a client meeting requires me to miss church, the an...",
          "Type: beliefs-and-values<br>Text: **Truth matters**: In a culture where bending truth is normal, I'll be known for saying what I mean ...",
          "Type: beliefs-and-values<br>Text: **6. Can I justify it to my team?**: If I can't explain and defend this decision to my team with pri...",
          "Type: beliefs-and-values<br>Text: **Precedent**: What pattern am I establishing? If everyone did this, what would happen to industry/s...",
          "Type: beliefs-and-values<br>Text: **Client demands vs. Technical integrity**: Client wants quick hack; I know it'll create technical d...",
          "Type: beliefs-and-values<br>Text: **Example 3**: Team member made a costly mistake. I took responsibility publicly to the client, hand...",
          "Type: beliefs-and-values<br>Text: **Conflicts of interest**: If I have competing interests, disclose them. Can't serve two clients who...",
          "Type: beliefs-and-values<br>Text: ### Personal Integrity\n\n**Authenticity**: I'm the same person at church, at client meetings, at home...",
          "Type: beliefs-and-values<br>Text: ### Accountability Standards\n\n**Weekly review**: Every Friday, I review the week - Did I live my val...",
          "Type: beliefs-and-values<br>Text: ### Commitment to Truth\n\n**No lying to clients**: Don't overpromise features, don't give fake deadli...",
          "Type: beliefs-and-values<br>Text: ## Social Responsibility\n\n### Community Ethics\n\n**Hire locally when possible**: 7 of my 8 team membe...",
          "Type: beliefs-and-values<br>Text: **Paperless operations**: Everything digital where possible. Reduce waste.\n\n**Remote work**: Most of...",
          "Type: beliefs-and-values<br>Text: **Accessibility**: Where possible, make our tools accessible to small businesses with limited budget...",
          "Type: beliefs-and-values<br>Text: **Open-source contributions**: Share code that could help other developers. Bug fixes, documentation...",
          "Type: beliefs-and-values<br>Text: **Team member's serious mistake**: Developer made error that cost client ₦2M. Fire him as example, o...",
          "Type: beliefs-and-values<br>Text: **Fair compensation as we grow**: How much should I pay myself vs reinvest vs pay team? What's fair ...",
          "Type: beliefs-and-values<br>Text: **What's the ethical limit of automation?**: If our tools replace human jobs (which they do), are we...",
          "Type: beliefs-and-values<br>Text: **Integrity costs but it compounds**: Lost multiple deals by refusing to compromise. But the deals I...",
          "Type: beliefs-and-values<br>Text: # Spirituality\n\n## Faith\n\n### Religious Beliefs\n\nI'm a Christian - evangelical/Pentecostal tradition...",
          "Type: beliefs-and-values<br>Text: I believe God has a purpose for my life - part of that is using my software engineering gifts to ser...",
          "Type: beliefs-and-values<br>Text: **Sunday worship (weekly)**: Attend my church in Enugu every Sunday morning. It's non-negotiable eve...",
          "Type: beliefs-and-values<br>Text: **Gratitude practice (daily)**: Every night, I journal three things I'm grateful for. This spiritual...",
          "Type: beliefs-and-values<br>Text: **Favorite passages**:\n\n- Proverbs 3:5-6 (Trust in the Lord, acknowledge Him) - guides my decision-m...",
          "Type: beliefs-and-values<br>Text: ### Faith Journey\n\n**Childhood faith**: Grew up in Christian home. Church every Sunday was mandatory...",
          "Type: beliefs-and-values<br>Text: **2022 near-bankruptcy**: Rock bottom moment. Prayed desperately. When the ₦18M deal came through da...",
          "Type: beliefs-and-values<br>Text: I believe I'm called to represent Christian values in tech - integrity when others cut corners, gene...",
          "Type: beliefs-and-values<br>Text: I see God in nature - the complexity of the universe mirrors the complexity of code and systems. Cre...",
          "Type: beliefs-and-values<br>Text: **Worship experiences**: Few times during worship service where I felt completely lost in God's pres...",
          "Type: beliefs-and-values<br>Text: **Meaning of life**: Loving God and loving people. Jesus said those are the two greatest commandment...",
          "Type: beliefs-and-values<br>Text: ### Intuition\n\nI believe the Holy Spirit guides believers through inner conviction and wisdom. Some ...",
          "Type: beliefs-and-values<br>Text: ### Meditation and Contemplation\n\nI don't practice Eastern meditation, but I do Christian contemplat...",
          "Type: beliefs-and-values<br>Text: **Intercessory prayer**: Pray for specific people - my team members by name, family, friends, even d...",
          "Type: beliefs-and-values<br>Text: **Solitude**: Monthly, I take half a day alone (usually Saturday afternoon) for extended prayer, ref...",
          "Type: beliefs-and-values<br>Text: **Age 18 - Owning my faith at Portsmouth**: Moved from inherited belief to personal conviction. Join...",
          "Type: beliefs-and-values<br>Text: **Age 29 - Learning to hear God's voice**: Getting better at distinguishing God's voice from my own ...",
          "Type: beliefs-and-values<br>Text: **Marketplace ministry**: Understanding how business can be ministry. Reading books on kingdom busin...",
          "Type: beliefs-and-values<br>Text: Understanding grace better - not just salvation by grace but daily living by grace. I can't earn God...",
          "Type: beliefs-and-values<br>Text: I'm learning to care for environment as stewardship - God created it, entrusted it to humans. Enviro...",
          "Type: beliefs-and-values<br>Text: **Love for enemies**: Hardest teaching of Jesus but I'm trying to live it. When clients are difficul...",
          "Type: beliefs-and-values<br>Text: **Love for team**: Genuinely care about my team's growth and wellbeing, not just their productivity....",
          "Type: beliefs-and-values<br>Text: # Philosophy\n\n## Worldview\n\n### Understanding of Reality\n\nI believe reality is both physical and spi...",
          "Type: beliefs-and-values<br>Text: **Causation**: Universe operates on cause and effect (which makes software engineering possible), bu...",
          "Type: beliefs-and-values<br>Text: **Being and becoming**: Reality is both - there are eternal truths (God's nature, moral law) and dyn...",
          "Type: beliefs-and-values<br>Text: **Justified belief**: What makes belief rational? Evidence, coherence with other beliefs, explanator...",
          "Type: beliefs-and-values<br>Text: ### Metaphysical Beliefs\n\n**God exists**: The eternal, omnipotent, omniscient, good Creator who sust...",
          "Type: beliefs-and-values<br>Text: ## Reasoning About Existence\n\n### Why We're Here\n\n**From God's perspective**: We exist because God w...",
          "Type: beliefs-and-values<br>Text: ### Meaning of Life\n\n**Primary meaning**: Loving God and loving people. Jesus reduced entire law to ...",
          "Type: beliefs-and-values<br>Text: **Contributive meaning**: Making the world better than I found it. Even small contributions matter. ...",
          "Type: beliefs-and-values<br>Text: ### Human Condition\n\n**Created good, fallen, redeemable**: Humans are made in God's image (inherent ...",
          "Type: beliefs-and-values<br>Text: ## Philosophical Influences\n\n### Philosophical Schools of Thought\n\n**Christian philosophy**: Primary...",
          "Type: beliefs-and-values<br>Text: **Analytic philosophy**: Clear thinking, logical rigor, precise language. Helpful for technical work...",
          "Type: beliefs-and-values<br>Text: **Dallas Willard**: Contemporary philosopher. Integration of spiritual formation and philosophy. \"Th...",
          "Type: beliefs-and-values<br>Text: **Problem of evil**: How can good God allow suffering? Don't have complete answer, but free will def...",
          "Type: beliefs-and-values<br>Text: **Portsmouth years (18-21)**: Engaged seriously with philosophy in university. Took epistemology, et...",
          "Type: beliefs-and-values<br>Text: **Excellence in all things**: Whether coding, praying, or making jollof rice. Whatever I do, do it t...",
          "Type: beliefs-and-values<br>Text: **Community over individualism**: Do life with others. Share burdens, celebrate wins, learn together...",
          "Type: beliefs-and-values<br>Text: **Growth**: Becoming more than I was. Dying better than I was born.\n\n**At life's end**: Will I hear ...",
          "Type: beliefs-and-values<br>Text: **Logic and faith**: Not faith vs reason but faith and reason together. Love God with all my mind (l...",
          "Type: beliefs-and-values<br>Text: **Process matters**: How I achieve goals matters as much as achieving them. Can't sacrifice integrit...",
          "Type: beliefs-and-values<br>Text: **Continuity of self**: Am I same person I was at 10? Physically, every cell has changed. But someth...",
          "Type: beliefs-and-values<br>Text: **God's sovereignty and human freedom**: This is mystery. Bible affirms both. I don't fully understa...",
          "Type: beliefs-and-values<br>Text: **How I want to die**: At peace with God, having lived fully, surrounded by loved ones, knowing I us...",
          "Type: beliefs-and-values<br>Text: **Truth and love together**: Caring about truth isn't cold rationalism. Truth sets free. Love withou...",
          "Type: beliefs-and-values<br>Text: **Evening**: Gratitude journal (recognize blessings), review day (did I live my values?), prepare to...",
          "Type: beliefs-and-values<br>Text: **Stewardship framework**: Everything I have (money, talent, time, opportunities) is entrusted to me...",
          "Type: beliefs-and-values<br>Text: **Christian mystics**: Not heavily studied but appreciate contemplative tradition - Brother Lawrence...",
          "Type: beliefs-and-values<br>Text: Everything coheres. No compartmentalization. One integrated life under God's lordship. That's applie...",
          "Type: knowledge-and-learning<br>Text: # Academics\n\n## Formal Education\n\n### Degrees and Certifications\n\n**BSc Computing, First Class Honou...",
          "Type: knowledge-and-learning<br>Text: **Google Cloud Digital Leader** (2024): Took this to understand GCP since some clients prefer it ove...",
          "Type: knowledge-and-learning<br>Text: **University of Portsmouth, UK** (2013-2017): This transformed my life. Modern facilities, accessibl...",
          "Type: knowledge-and-learning<br>Text: ### Major Fields of Study\n\n**Software Engineering**: My core competency. Learned software design pat...",
          "Type: knowledge-and-learning<br>Text: **Web Technologies**: Full-stack development - front-end, back-end, APIs, deployment. Built multiple...",
          "Type: knowledge-and-learning<br>Text: **Dean's List** (2015, 2016, 2017): Made the Dean's List three out of four years. Missed it in first...",
          "Type: knowledge-and-learning<br>Text: **Third Year Group Project: \"Healthcare Appointment Scheduling System\"** (2015-2016): Team of 4. I w...",
          "Type: knowledge-and-learning<br>Text: ### Publications\n\nHaven't published academically yet, but it's a goal. I have two potential papers:\n...",
          "Type: knowledge-and-learning<br>Text: **LLM applications for emerging markets**: How do we build AI tools that work well with Nigerian Pid...",
          "Type: knowledge-and-learning<br>Text: **Quantitative Analysis**: Statistical analysis, A/B testing, hypothesis testing. I use this constan...",
          "Type: knowledge-and-learning<br>Text: ## Specialized Training\n\n### Professional Certifications\n\n**AWS Certified Solutions Architect - Asso...",
          "Type: knowledge-and-learning<br>Text: **Planning to get: TensorFlow Developer Certificate** (2025): Want formal validation of my ML skills...",
          "Type: knowledge-and-learning<br>Text: **TechCabal Battlefield Workshop** (2024): Pitch preparation and presentation skills for founders. H...",
          "Type: knowledge-and-learning<br>Text: ### Continuing Education\n\nI spend 10-15 hours/week on learning:\n\n- **Coursera**: Currently taking An...",
          "Type: knowledge-and-learning<br>Text: ## Academic Interests\n\n### Current Areas of Study\n\n**Large Language Models**: Obsessed with understa...",
          "Type: knowledge-and-learning<br>Text: ### Emerging Interests\n\n**Multimodal AI**: Models that work with text, images, and potentially voice...",
          "Type: knowledge-and-learning<br>Text: **Software Engineering + ML**: I'm learning that building ML systems requires different engineering ...",
          "Type: knowledge-and-learning<br>Text: **Mandarin**: Random goal but I want to learn Chinese. China's tech ecosystem is huge and I want to ...",
          "Type: knowledge-and-learning<br>Text: # Insights\n\n## Lessons Learned Through Experience\n\n### Career Lessons\n\n**Technical skill alone isn't...",
          "Type: knowledge-and-learning<br>Text: **You can't do everything**: Took me 3 years to truly accept this. As founder, I tried to code, sell...",
          "Type: knowledge-and-learning<br>Text: **Actions speak louder than words**: My team doesn't care what I say about work-life balance if I'm ...",
          "Type: knowledge-and-learning<br>Text: ### Personal Growth Lessons\n\n**Therapy isn't weakness**: Stigma around mental health in Nigeria is r...",
          "Type: knowledge-and-learning<br>Text: **Rest is productive**: Pushing through burnout doesn't make you more productive. When I started tak...",
          "Type: knowledge-and-learning<br>Text: **Speed of recovery matters more than avoiding failure**: Everyone fails. The winners are those who ...",
          "Type: knowledge-and-learning<br>Text: **Nigeria is opportunity, not limitation**: Used to think I had to leave Nigeria to succeed in tech....",
          "Type: knowledge-and-learning<br>Text: ### Perspective Shifts\n\n**From scarcity to abundance**: Grew up thinking resources were limited, had...",
          "Type: knowledge-and-learning<br>Text: **From planning to adapting**: Used to make detailed 5-year plans. Now I have a direction and adapt ...",
          "Type: knowledge-and-learning<br>Text: **Understanding that time is my only finite resource**: I can make more money, gain more skills, bui...",
          "Type: knowledge-and-learning<br>Text: **From perfectionist to iterationist**: Used to want everything perfect before shipping. Now I ship ...",
          "Type: knowledge-and-learning<br>Text: **Celebrate wins**: I'm bad at this. I hit milestones and immediately focus on next goal. Learning t...",
          "Type: knowledge-and-learning<br>Text: ### From Others\n\n**From Mr. Okafor**: Invest in young people. Your time and belief can change their ...",
          "Type: knowledge-and-learning<br>Text: **My perfectionism is fear-based**: Through journaling, I realized I'm perfectionist because I'm afr...",
          "Type: knowledge-and-learning<br>Text: **Excellence without excuse**: Do quality work regardless of circumstances. Nigeria has challenges b...",
          "Type: knowledge-and-learning<br>Text: **1-on-1s with team**: Weekly or biweekly 1-on-1s with each team member. Learned this from managemen...",
          "Type: knowledge-and-learning<br>Text: **10-10-10**: How will I feel about this decision in 10 minutes, 10 months, 10 years? Gives perspect...",
          "Type: knowledge-and-learning<br>Text: **Inversion**: Think about what would guarantee failure, then avoid those things. Charlie Munger's a...",
          "Type: knowledge-and-learning<br>Text: **How do we serve Nigerian SMEs profitably?**: They need help but have limited budgets. What's the s...",
          "Type: knowledge-and-learning<br>Text: **Neuroscience and learning**: How does the brain actually learn? Can I optimize how I learn and how...",
          "Type: knowledge-and-learning<br>Text: **Remote work changes everything**: Can hire from anywhere in Nigeria, can serve clients globally, c...",
          "Type: knowledge-and-learning<br>Text: # Skills\n\n## Technical Skills\n\n### Programming and Development\n\n**Python (Expert, 7 years)**: My pri...",
          "Type: knowledge-and-learning<br>Text: **HTML/CSS (Intermediate)**: Can build functional UIs but I'm not a designer. I know flexbox, grid, ...",
          "Type: knowledge-and-learning<br>Text: **Docker**: Containerize all our applications. Understand Dockerfile optimization, multi-stage build...",
          "Type: knowledge-and-learning<br>Text: **Postman**: API testing and documentation. Use it extensively for debugging our automation APIs.\n\n#...",
          "Type: knowledge-and-learning<br>Text: ### Technical Proficiencies\n\n**API Design**: Built numerous RESTful APIs. Understand versioning, aut...",
          "Type: knowledge-and-learning<br>Text: **Performance Optimization**: Profile code, identify bottlenecks, optimize database queries, impleme...",
          "Type: knowledge-and-learning<br>Text: **System Architecture Design**: This is where I'm creative - designing elegant solutions to complex ...",
          "Type: knowledge-and-learning<br>Text: I'm good at connecting ideas from different domains. The LLM RAG pattern I'm implementing at RoboOff...",
          "Type: knowledge-and-learning<br>Text: ## Soft Skills\n\n### Communication\n\n**Writing**: I can explain complex technical concepts clearly in ...",
          "Type: knowledge-and-learning<br>Text: ### Leadership\n\n**Vision Setting**: Can articulate where RoboOffice is going and why it matters. My ...",
          "Type: knowledge-and-learning<br>Text: **Coaching**: Good at helping team members level up. Tunde joined as junior dev, I mentored him, he'...",
          "Type: knowledge-and-learning<br>Text: ### Emotional Intelligence\n\n**Self-Awareness**: I know I'm a perfectionist who can be impatient. Kno...",
          "Type: knowledge-and-learning<br>Text: ### Project Management\n\n**Planning**: Break down complex projects into manageable tasks, estimate ti...",
          "Type: knowledge-and-learning<br>Text: **Information Management**: Document everything - project decisions, client conversations, technical...",
          "Type: knowledge-and-learning<br>Text: **Delegation**: Slowly learning to give work to team instead of doing everything myself.\n\n### Resour...",
          "Type: knowledge-and-learning<br>Text: **Enterprise Sales**: Taking online courses, reading books (SPIN Selling), getting coached. Need to ...",
          "Type: knowledge-and-learning<br>Text: **Negotiation**: Want to get better at contract negotiations, salary discussions, partnership deals....",
          "Type: knowledge-and-learning<br>Text: **Marketing**: Growth marketing, content marketing, SEO. We rely too much on referrals. Need to buil..."
         ],
         "type": "scatter3d",
         "x": {
          "bdata": "3I+oQRaAskFdxIdBUenhQV2OyEE7t3/AnoixQVDatEF/lshBZyf1PzSTsUAA9gJBauoLQaIwgEEKdJRBCOOuQTj/8EH/cQFCBysBQuvKGkIlEglCEPeeQEXo/kAdCDZBEcaFQTN4LsEwGelB23UxQOkcRsECRNFB+X8AQCruG0KLe6xB4+GAQQ1RYMF6FTHBbrJVwR4mesHjAXbAqFUAQtHmLEBb4MxBqJbdQWc1WEEZhBLAVT9AQAsbvUBMfSPBItrjQQYz+j8ilNtBSyzNQTtr6EF8QQVCzkVRQKa740BICa2//ZXLQJDGeUFQ3m9BS4iAQK8OGEFO5axBlz3+Pw6RLz6aXmDBOcUOwQADMcERzp3BZ27FwWcsrsHEoIlBAzEHwTH2F8FQIxlBnZXXvzZOI8F2D2jBErkPQZ493kF6kL5BJzHEQc5qZ0EpE4BBhYu0wTT33sFvyerB+YEQwuQMDcJLX+3BHurqwZT9GcKoYQ3CGyMhwr2ZBMIUA+PBcAHPwWNK7cE+OIPBnVtbwcY9GsF2earA8Q67wYUOn8BihG7ArL8gwShgX8GEk1jBvKr7vkpR4EGt6hVCb8REwo6pOcKyu6DBuHa7wdQqK8Kzsi3CdksuwvEAEMKWbgPCtBv7wViXG8IXjIDB8hQywgDAccFZuXXBCAk1wcz/oMDfToa/lQkeQA5Bf8FRVqXBFye8wbnOw8FQ0I/BRw2vwHjX27851AbA+IDxwJzrQ8LQE1DAarAYwVyTPUH5dq3BL53swZdyD8JYcRrCd5MMwnvKz8EiQwjCEm4BwkNlBcJk+ezBx0YKwgeiH8LVWxVAo8TkwI6WqsDjHAZAsHE9wehDlcHFaTHB0zlPwdj+x0CuuwpA+teDwD/UWcAPMUNAER4kwbMgtMAcNEjB6/Y2wQJH38DDwgfAqC/TQexxBULI4pNBZ3DMQUfy3EH3x9VBq2j8QTUI5EFbXZlBn27NQWc8y0ExdppB9xmFQRwDL0EOod5AHUawQORKt0GTecJBL1a/QTsrtUEvxQVC2boCPvGxSECJmnhATuUpQYJQXkEXkV1BC+zXP1Us4z8DfKVADUT9PyV7psBFPe3APbddPWtkDkD/IjJBSQtsQUgyi0Gi0cdBhvcSQY1f/kE1nPtBvGLvQSTbR0HOTNk/QHDnQHROYUC2Ec9AtOduvyjMA8FBD/jAJJqEQSWUykESD8VBN4CTQWUnBEGnA6pBQL59QVpeckEyb7BBthvuQJjxmEHMlH5Bl6Y0QfAWsUCLjWhBLSqDQTnOsEFoEZxBuV5bQZMvKcLGnh7CIfs+whfXFsJ51C/CCdBLwnL1B8LnierBc+bywVaQB8IiSw7CjUABwsw938FTH6LBjaeVwXSRpcGxjNXBiQ7cwSbBgj8+o9pAJd4dQSx9fEB89QU9l2WSwBkaCsEBhrA/q0L4P8AkCb+umzHAHAU4wDmcHUHZdGxBz1xoQfaj6EH0ChJCRiBFQVytsMHxgbrBD7b7wJ3CEcKr2xfCnk/zwQ2h1cE33fjBPaXCwbGkl8GnOYrB5uRjQeGCtr/IiThCEMMXQqqd10H6gMhBxzu3wZWDcUCFu11A2XBcQQ==",
          "dtype": "f4"
         },
         "y": {
          "bdata": "RiXOQCZHUj+KS5jAtJZiwa+Ja8HhltpAujy9wGRvy8BHOCbBPrHCP97L0kCxRpvA6ukbwakcJMEM+HTBYHSDwcYTosGvPw7Bg02WwBRTesHnuoTB6a9IwAoswL8WPphAH+3FP/3CF7/jY3JBI0A2wZ7Dfj2sf4xAOl3yQd7hDkF2UoJBhY6VQSrEHD+jK8ZA6HCavtH13EAvkf5AD+KYQc85ucDEQaVBVeC0QcwRJsF6Zc1BespGwfdCSUAC00NBmQKaQElPIkBPKZLBcVZFwaEHDsGy8AfBXmfMQYQG1EHYbrxB4oLBQeSiJ0FzJJFBo91TQVmJXsDuvO4/8jKGQY0kKkF0hSXB7w8QwT1Yl8EoLKtBAfrTQbJ/3UFgcWNAwwWkQTSQukE8OQlBUbc0wRw3gUHHg6dBlTKoQaD+HkGienBB6EHiPegglEG/Dr9BiGQMwW+MycDcli/BYN/CwWe+ysHO6pLBPIqFwJWALMEpux7BQ42FwL70EcDJA/jAQwl4wfecwME+/VTButsEwfL6GMGMy3DBnsWdwR2SEMHXjKbBbQqnwVcgpsEnVQ/CEwgKQdQKL8DMf3o/0JutwdSwD8GOi7xAFmjIQJnLusFlN8DB7YJgwSgiWMHzANnBhIKfwXcki8HdKCpBcQ9Jwa/Rl0Hr0MNBamOsQVAkvEEh6XNBrteIQbIokEEJVI1B3y+DQbvGskFPoOJBsZK0QQVLs0F6vgZCuYoOQkRKmD/BNpXB5iPdwEe+MUFBDk9BFrSnQde5vkGKg59BcE1vQRVGL0GAYypBgc3Vvh8AZ0FtRMFBR37kQXgxtkGo6vNBZif5QRFqzEFEg8hBvLIxQrG6YkGi6vJB2CEMQlQgH0Ip3SdC8/srQoQLKEIlFApCqYqdQVxZdkEvUkdB24EnQeCGKUGwFTNBPUFBv75GSsDxSYQ+h1z4wOJAQ8EmWQ3BCcGkwOfYG0H6uy5BXXmkQDaXGsA47QK/pA9XP18X0L0wmHjAXCeRQEVODUEg3GBBzpYLQUItLkBGQFfA+NvrwYKgxsH3XsHBKWbcwbAyC8Kqih/CiMavwR0AzMEVECTCanEmwkwxDcKeVhLCL8wOwnyG9cFO9N/BXfYIwjyW6sGYw8LBPmgAwhP/AcINEtfB1BDXwXTnPsI8TTvC4RFPwj14LsK5pSfCQW0bwhqyDsIqZynCsrkTwpmj/8HwmO3BcHsHwtumBcIQVrTB+SBlwaXBSsFONm/B78FwwULDQ8KH/T3CwRJHwqJeVsKJksjBzVLHwVoL6cHcnvjBFeyywWLxg0CZVqVAiJFQwByyZMAnd5/ANnp9wPnl8kFkw+1BF7nXQWAAqkH02e5Aqgc7QPkUfb/zqy9C4z4gQq1qAkKW1QpCASMjQpXuoz4E/DBAEISEQJaeV8HS6yTBXaHawPhJg0Cm/15BgzaNQf748kAfm69AKvZav9PTLsEJQSjBWEdAQCDZsEAPhmVAXWY8QWiV6EEgxQRCBZITQY9KGcA0BplAOn7kQB2CO0AhXy3AIVQ5wb2qYcHpH6PAibHzQeBzqj/4LLPA5FsnwWD7hkGgYzhBCsYUQehSC0L9RShCrdUrQg==",
          "dtype": "f4"
         },
         "z": {
          "bdata": "O1s+QklAPkLRlDtCV8sYQnH9L0IvGTZC5VMYQj2Z2UH/r/tBma4OQhcgIkLC9TJCofcgQv3MFUI3Iu9B1cylQfDhokGcsapB0+LbQdql20EzQgdCiSS4QavR40HIIO1BgzECQnONccC28ApCbah4wLCTLMHe39pBVyn1Qdg9yEG4UgBC0F4FQjBXt0GwpqY/BGhnQLre7sCGwunALh2CQZ2apcBhieFB/KC2QZDKN0Bv2cRB3U8gQfY2TMEIxK3A6wQ2Qd9DckG4MNg+Ax+pO7owx0AisjZBd3uSQId+oMA1FCNB7BI3QeQvb0HtIX1BHcE8Qes2bUGX8rFAF6N5vyaNM0AVv9ZBO8W9QVMYj0G+mSpBXeKHQbpLEkH1undBE3DhQfTluUGli0XB7Cp5QbkFS0A4d4TAjNxSwV+c+UCNAf1AOFmjQbWh8j+/4EpAByY5Qfw8m0A6hji+acRpQSfMx0AcahdBvKvLQVIvpkEI11FBQLVfQYs8WEEbCpBBn8+ZQdqOJsF5oyfBc3mqwJuNDL92dFLBxQm0QMx4isG0GVVAp2c2QLR0c8C4hg1AUHogQnHmC0J3y89BqckTQHOFOsBUbzJBH84LPwdZF0FgMRA/yYA4P0xSA0EuwzbAOAfgv8cMmcA2IJZBuXocQfgjMcGr1WzBK/mowfXS8MHtdPrBmtrPwelZ2sGzhrHBggWJP9jGlcAf5+jAZroYwWEcesAqDDnBX2hNwUhLDsFAlZRBxVGAQXLkoUEoDSNBVTSJQNM+hT/DJJDAqqmzwAJDw8DnM59An/eIQIJtfkHEVD1Br/A9QZThM0H09wDCO/XhwXBjscExOdbBUsPXQJwA1cApKBk/g8pkwPtprz+cNN9AVa+uQJ7wZMDEVIzBk24GwuSMhcGkAILBN1mxwdYQ7sH4mxjCTjzSwXC45MGGY/rBQ8nGwTiu9sGB0RbC7DIZwhQk0cE6273BHqSxwUkEeMGkdXrBnVq2wcvsz8FqEPPBmovuwRvG9cGz8g7CqrUiwhlIIcLhBKrBMg2vwBJHFMCX0o1AVfRSvx4Qiz8ppBVBvKYgwaQbd8FY5brApW0rwRH62cA12Iu/+4fTQIQ6I0FqzUVBvOY8QX/q1ECxads/XCNAwfqrGEH8XEVBApSeQa8Hy8GSlKbBdmy9wYVz58FpTbLBYnCZwWV1lMHDYaDBCa+cwc+ttcFuI+HBlgTfwSeD2cFrMpnBWhDIwHr8VsFqhR3B1ZJfweAErcHFc3DBIoE8wURiRsExSZfBC/fVwAkjHMFQJ4rB25vVwaIlasEzu73AYZrGvOaco8E8oVfBh9xKwboXFsHX5WHBkNuiwUI7s8F3wmHBbvkRwVVXEsHs2y7BOraGwR0emsH+7cDBo8PRwTafhUCtLfY/V9bYQFw1yEE8DOlBSQ0HQrkvgkFiqJVBJzrBQUmbpEGXk9lBFBDvQW9+pEGP025BColJwAbmV8D6uEbAfjz6v9FWDcLRW/PB0bpHQeRW58FFxPLB5aOzwQkX6sFhBNPBkjvtwcC75cGUoKzBGPjswMipicEdS4BBgaC1QUCE8sCiGr3AYXJcwY0IT8AzJ/bAJjlgwA==",
          "dtype": "f4"
         }
        }
       ],
       "layout": {
        "height": 700,
        "margin": {
         "b": 10,
         "l": 10,
         "r": 20,
         "t": 40
        },
        "scene": {
         "xaxis": {
          "title": {
           "text": "x"
          }
         },
         "yaxis": {
          "title": {
           "text": "y"
          }
         },
         "zaxis": {
          "title": {
           "text": "z"
          }
         }
        },
        "template": {
         "data": {
          "bar": [
           {
            "error_x": {
             "color": "#2a3f5f"
            },
            "error_y": {
             "color": "#2a3f5f"
            },
            "marker": {
             "line": {
              "color": "#E5ECF6",
              "width": 0.5
             },
             "pattern": {
              "fillmode": "overlay",
              "size": 10,
              "solidity": 0.2
             }
            },
            "type": "bar"
           }
          ],
          "barpolar": [
           {
            "marker": {
             "line": {
              "color": "#E5ECF6",
              "width": 0.5
             },
             "pattern": {
              "fillmode": "overlay",
              "size": 10,
              "solidity": 0.2
             }
            },
            "type": "barpolar"
           }
          ],
          "carpet": [
           {
            "aaxis": {
             "endlinecolor": "#2a3f5f",
             "gridcolor": "white",
             "linecolor": "white",
             "minorgridcolor": "white",
             "startlinecolor": "#2a3f5f"
            },
            "baxis": {
             "endlinecolor": "#2a3f5f",
             "gridcolor": "white",
             "linecolor": "white",
             "minorgridcolor": "white",
             "startlinecolor": "#2a3f5f"
            },
            "type": "carpet"
           }
          ],
          "choropleth": [
           {
            "colorbar": {
             "outlinewidth": 0,
             "ticks": ""
            },
            "type": "choropleth"
           }
          ],
          "contour": [
           {
            "colorbar": {
             "outlinewidth": 0,
             "ticks": ""
            },
            "colorscale": [
             [
              0,
              "#0d0887"
             ],
             [
              0.1111111111111111,
              "#46039f"
             ],
             [
              0.2222222222222222,
              "#7201a8"
             ],
             [
              0.3333333333333333,
              "#9c179e"
             ],
             [
              0.4444444444444444,
              "#bd3786"
             ],
             [
              0.5555555555555556,
              "#d8576b"
             ],
             [
              0.6666666666666666,
              "#ed7953"
             ],
             [
              0.7777777777777778,
              "#fb9f3a"
             ],
             [
              0.8888888888888888,
              "#fdca26"
             ],
             [
              1,
              "#f0f921"
             ]
            ],
            "type": "contour"
           }
          ],
          "contourcarpet": [
           {
            "colorbar": {
             "outlinewidth": 0,
             "ticks": ""
            },
            "type": "contourcarpet"
           }
          ],
          "heatmap": [
           {
            "colorbar": {
             "outlinewidth": 0,
             "ticks": ""
            },
            "colorscale": [
             [
              0,
              "#0d0887"
             ],
             [
              0.1111111111111111,
              "#46039f"
             ],
             [
              0.2222222222222222,
              "#7201a8"
             ],
             [
              0.3333333333333333,
              "#9c179e"
             ],
             [
              0.4444444444444444,
              "#bd3786"
             ],
             [
              0.5555555555555556,
              "#d8576b"
             ],
             [
              0.6666666666666666,
              "#ed7953"
             ],
             [
              0.7777777777777778,
              "#fb9f3a"
             ],
             [
              0.8888888888888888,
              "#fdca26"
             ],
             [
              1,
              "#f0f921"
             ]
            ],
            "type": "heatmap"
           }
          ],
          "histogram": [
           {
            "marker": {
             "pattern": {
              "fillmode": "overlay",
              "size": 10,
              "solidity": 0.2
             }
            },
            "type": "histogram"
           }
          ],
          "histogram2d": [
           {
            "colorbar": {
             "outlinewidth": 0,
             "ticks": ""
            },
            "colorscale": [
             [
              0,
              "#0d0887"
             ],
             [
              0.1111111111111111,
              "#46039f"
             ],
             [
              0.2222222222222222,
              "#7201a8"
             ],
             [
              0.3333333333333333,
              "#9c179e"
             ],
             [
              0.4444444444444444,
              "#bd3786"
             ],
             [
              0.5555555555555556,
              "#d8576b"
             ],
             [
              0.6666666666666666,
              "#ed7953"
             ],
             [
              0.7777777777777778,
              "#fb9f3a"
             ],
             [
              0.8888888888888888,
              "#fdca26"
             ],
             [
              1,
              "#f0f921"
             ]
            ],
            "type": "histogram2d"
           }
          ],
          "histogram2dcontour": [
           {
            "colorbar": {
             "outlinewidth": 0,
             "ticks": ""
            },
            "colorscale": [
             [
              0,
              "#0d0887"
             ],
             [
              0.1111111111111111,
              "#46039f"
             ],
             [
              0.2222222222222222,
              "#7201a8"
             ],
             [
              0.3333333333333333,
              "#9c179e"
             ],
             [
              0.4444444444444444,
              "#bd3786"
             ],
             [
              0.5555555555555556,
              "#d8576b"
             ],
             [
              0.6666666666666666,
              "#ed7953"
             ],
             [
              0.7777777777777778,
              "#fb9f3a"
             ],
             [
              0.8888888888888888,
              "#fdca26"
             ],
             [
              1,
              "#f0f921"
             ]
            ],
            "type": "histogram2dcontour"
           }
          ],
          "mesh3d": [
           {
            "colorbar": {
             "outlinewidth": 0,
             "ticks": ""
            },
            "type": "mesh3d"
           }
          ],
          "parcoords": [
           {
            "line": {
             "colorbar": {
              "outlinewidth": 0,
              "ticks": ""
             }
            },
            "type": "parcoords"
           }
          ],
          "pie": [
           {
            "automargin": true,
            "type": "pie"
           }
          ],
          "scatter": [
           {
            "fillpattern": {
             "fillmode": "overlay",
             "size": 10,
             "solidity": 0.2
            },
            "type": "scatter"
           }
          ],
          "scatter3d": [
           {
            "line": {
             "colorbar": {
              "outlinewidth": 0,
              "ticks": ""
             }
            },
            "marker": {
             "colorbar": {
              "outlinewidth": 0,
              "ticks": ""
             }
            },
            "type": "scatter3d"
           }
          ],
          "scattercarpet": [
           {
            "marker": {
             "colorbar": {
              "outlinewidth": 0,
              "ticks": ""
             }
            },
            "type": "scattercarpet"
           }
          ],
          "scattergeo": [
           {
            "marker": {
             "colorbar": {
              "outlinewidth": 0,
              "ticks": ""
             }
            },
            "type": "scattergeo"
           }
          ],
          "scattergl": [
           {
            "marker": {
             "colorbar": {
              "outlinewidth": 0,
              "ticks": ""
             }
            },
            "type": "scattergl"
           }
          ],
          "scattermap": [
           {
            "marker": {
             "colorbar": {
              "outlinewidth": 0,
              "ticks": ""
             }
            },
            "type": "scattermap"
           }
          ],
          "scattermapbox": [
           {
            "marker": {
             "colorbar": {
              "outlinewidth": 0,
              "ticks": ""
             }
            },
            "type": "scattermapbox"
           }
          ],
          "scatterpolar": [
           {
            "marker": {
             "colorbar": {
              "outlinewidth": 0,
              "ticks": ""
             }
            },
            "type": "scatterpolar"
           }
          ],
          "scatterpolargl": [
           {
            "marker": {
             "colorbar": {
              "outlinewidth": 0,
              "ticks": ""
             }
            },
            "type": "scatterpolargl"
           }
          ],
          "scatterternary": [
           {
            "marker": {
             "colorbar": {
              "outlinewidth": 0,
              "ticks": ""
             }
            },
            "type": "scatterternary"
           }
          ],
          "surface": [
           {
            "colorbar": {
             "outlinewidth": 0,
             "ticks": ""
            },
            "colorscale": [
             [
              0,
              "#0d0887"
             ],
             [
              0.1111111111111111,
              "#46039f"
             ],
             [
              0.2222222222222222,
              "#7201a8"
             ],
             [
              0.3333333333333333,
              "#9c179e"
             ],
             [
              0.4444444444444444,
              "#bd3786"
             ],
             [
              0.5555555555555556,
              "#d8576b"
             ],
             [
              0.6666666666666666,
              "#ed7953"
             ],
             [
              0.7777777777777778,
              "#fb9f3a"
             ],
             [
              0.8888888888888888,
              "#fdca26"
             ],
             [
              1,
              "#f0f921"
             ]
            ],
            "type": "surface"
           }
          ],
          "table": [
           {
            "cells": {
             "fill": {
              "color": "#EBF0F8"
             },
             "line": {
              "color": "white"
             }
            },
            "header": {
             "fill": {
              "color": "#C8D4E3"
             },
             "line": {
              "color": "white"
             }
            },
            "type": "table"
           }
          ]
         },
         "layout": {
          "annotationdefaults": {
           "arrowcolor": "#2a3f5f",
           "arrowhead": 0,
           "arrowwidth": 1
          },
          "autotypenumbers": "strict",
          "coloraxis": {
           "colorbar": {
            "outlinewidth": 0,
            "ticks": ""
           }
          },
          "colorscale": {
           "diverging": [
            [
             0,
             "#8e0152"
            ],
            [
             0.1,
             "#c51b7d"
            ],
            [
             0.2,
             "#de77ae"
            ],
            [
             0.3,
             "#f1b6da"
            ],
            [
             0.4,
             "#fde0ef"
            ],
            [
             0.5,
             "#f7f7f7"
            ],
            [
             0.6,
             "#e6f5d0"
            ],
            [
             0.7,
             "#b8e186"
            ],
            [
             0.8,
             "#7fbc41"
            ],
            [
             0.9,
             "#4d9221"
            ],
            [
             1,
             "#276419"
            ]
           ],
           "sequential": [
            [
             0,
             "#0d0887"
            ],
            [
             0.1111111111111111,
             "#46039f"
            ],
            [
             0.2222222222222222,
             "#7201a8"
            ],
            [
             0.3333333333333333,
             "#9c179e"
            ],
            [
             0.4444444444444444,
             "#bd3786"
            ],
            [
             0.5555555555555556,
             "#d8576b"
            ],
            [
             0.6666666666666666,
             "#ed7953"
            ],
            [
             0.7777777777777778,
             "#fb9f3a"
            ],
            [
             0.8888888888888888,
             "#fdca26"
            ],
            [
             1,
             "#f0f921"
            ]
           ],
           "sequentialminus": [
            [
             0,
             "#0d0887"
            ],
            [
             0.1111111111111111,
             "#46039f"
            ],
            [
             0.2222222222222222,
             "#7201a8"
            ],
            [
             0.3333333333333333,
             "#9c179e"
            ],
            [
             0.4444444444444444,
             "#bd3786"
            ],
            [
             0.5555555555555556,
             "#d8576b"
            ],
            [
             0.6666666666666666,
             "#ed7953"
            ],
            [
             0.7777777777777778,
             "#fb9f3a"
            ],
            [
             0.8888888888888888,
             "#fdca26"
            ],
            [
             1,
             "#f0f921"
            ]
           ]
          },
          "colorway": [
           "#636efa",
           "#EF553B",
           "#00cc96",
           "#ab63fa",
           "#FFA15A",
           "#19d3f3",
           "#FF6692",
           "#B6E880",
           "#FF97FF",
           "#FECB52"
          ],
          "font": {
           "color": "#2a3f5f"
          },
          "geo": {
           "bgcolor": "white",
           "lakecolor": "white",
           "landcolor": "#E5ECF6",
           "showlakes": true,
           "showland": true,
           "subunitcolor": "white"
          },
          "hoverlabel": {
           "align": "left"
          },
          "hovermode": "closest",
          "mapbox": {
           "style": "light"
          },
          "paper_bgcolor": "white",
          "plot_bgcolor": "#E5ECF6",
          "polar": {
           "angularaxis": {
            "gridcolor": "white",
            "linecolor": "white",
            "ticks": ""
           },
           "bgcolor": "#E5ECF6",
           "radialaxis": {
            "gridcolor": "white",
            "linecolor": "white",
            "ticks": ""
           }
          },
          "scene": {
           "xaxis": {
            "backgroundcolor": "#E5ECF6",
            "gridcolor": "white",
            "gridwidth": 2,
            "linecolor": "white",
            "showbackground": true,
            "ticks": "",
            "zerolinecolor": "white"
           },
           "yaxis": {
            "backgroundcolor": "#E5ECF6",
            "gridcolor": "white",
            "gridwidth": 2,
            "linecolor": "white",
            "showbackground": true,
            "ticks": "",
            "zerolinecolor": "white"
           },
           "zaxis": {
            "backgroundcolor": "#E5ECF6",
            "gridcolor": "white",
            "gridwidth": 2,
            "linecolor": "white",
            "showbackground": true,
            "ticks": "",
            "zerolinecolor": "white"
           }
          },
          "shapedefaults": {
           "line": {
            "color": "#2a3f5f"
           }
          },
          "ternary": {
           "aaxis": {
            "gridcolor": "white",
            "linecolor": "white",
            "ticks": ""
           },
           "baxis": {
            "gridcolor": "white",
            "linecolor": "white",
            "ticks": ""
           },
           "bgcolor": "#E5ECF6",
           "caxis": {
            "gridcolor": "white",
            "linecolor": "white",
            "ticks": ""
           }
          },
          "title": {
           "x": 0.05
          },
          "xaxis": {
           "automargin": true,
           "gridcolor": "white",
           "linecolor": "white",
           "ticks": "",
           "title": {
            "standoff": 15
           },
           "zerolinecolor": "white",
           "zerolinewidth": 2
          },
          "yaxis": {
           "automargin": true,
           "gridcolor": "white",
           "linecolor": "white",
           "ticks": "",
           "title": {
            "standoff": 15
           },
           "zerolinecolor": "white",
           "zerolinewidth": 2
          }
         }
        },
        "title": {
         "text": "3D Chroma Vector Store Visualization"
        },
        "width": 900
       }
      }
     },
     "metadata": {},
     "output_type": "display_data"
    }
   ],
   "source": [
    "tsne = TSNE(n_components=3, random_state=42)\n",
    "reduced_vectors = tsne.fit_transform(vectors)\n",
    "\n",
    "# Create the 3D scatter plot\n",
    "fig = go.Figure(data=[go.Scatter3d(\n",
    "    x=reduced_vectors[:, 0],\n",
    "    y=reduced_vectors[:, 1],\n",
    "    z=reduced_vectors[:, 2],\n",
    "    mode='markers',\n",
    "    marker=dict(size=5, color=colors, opacity=0.8),\n",
    "    text=[f\"Type: {t}<br>Text: {d[:100]}...\" for t, d in zip(doc_types, documents)],\n",
    "    hoverinfo='text'\n",
    ")])\n",
    "\n",
    "fig.update_layout(\n",
    "    title='3D Chroma Vector Store Visualization',\n",
    "    scene=dict(xaxis_title='x', yaxis_title='y', zaxis_title='z'),\n",
    "    width=900,\n",
    "    height=700,\n",
    "    margin=dict(r=20, b=10, l=10, t=40)\n",
    ")\n",
    "\n",
    "fig.show()"
   ]
  },
  {
   "cell_type": "markdown",
   "id": "b1ffed08",
   "metadata": {},
   "source": [
    "## Step 7: Build Conversational RAG System\n",
    "\n",
    "**Components:**\n",
    "- 🤖 **LLM:** GPT-4o-mini with temperature 0.7 (creative but focused responses)\n",
    "- 🧠 **Memory:** ConversationBufferMemory tracks chat history for context\n",
    "- 🔍 **Retriever:** Searches vector store for relevant chunks based on questions\n",
    "- 🔗 **Chain:** ConversationalRetrievalChain orchestrates: query → retrieve → generate answer\n",
    "\n",
    "**How it works:**\n",
    "1. You ask a question about me\n",
    "2. System searches my documentation for relevant chunks\n",
    "3. Retrieved chunks + chat history → LLM\n",
    "4. LLM generates contextual answer based on my actual documented knowledge\n",
    "\n",
    "**Result:** Chat with my digital consciousness!\n"
   ]
  },
  {
   "cell_type": "markdown",
   "id": "de74d527",
   "metadata": {},
   "source": [
    "### 🎭 Customizing the AI Persona\n",
    "\n",
    "Making the AI sound **human, not robotic**:\n",
    "\n",
    "**Key Features:**\n",
    "- 🤝 **Warm greetings** - Natural first-contact pleasantries, then gets down to business\n",
    "- 💭 **Emotionally intelligent** - Empathetic and understanding responses\n",
    "- 🚫 **No clichés** - Avoids \"What can I do for you?\" type phrases\n",
    "- 🎯 **Graceful unknowns** - Instead of \"I don't know,\" says \"From what I've documented so far...\" \n",
    "- 🗣️ **Conversational tone** - Speaks like Hope would, occasionally using Nigerian expressions\n",
    "- ❤️ **Authentic** - Real, relatable, not stiff or overly formal\n",
    "\n",
    "This custom system prompt ensures the AI feels like talking to a real person, not a chatbot.\n"
   ]
  },
  {
   "cell_type": "code",
   "execution_count": 11,
   "id": "2a1e45e9",
   "metadata": {},
   "outputs": [
    {
     "name": "stderr",
     "output_type": "stream",
     "text": [
      "/var/folders/jq/vdvn5cg53sj2xsq1w_0wjjc80000gn/T/ipykernel_82229/4053570537.py:32: LangChainDeprecationWarning:\n",
      "\n",
      "Please see the migration guide at: https://python.langchain.com/docs/versions/migrating_memory/\n",
      "\n"
     ]
    }
   ],
   "source": [
    "# Custom system prompt for emotionally intelligent, human-like persona\n",
    "from langchain.prompts import SystemMessagePromptTemplate, HumanMessagePromptTemplate, ChatPromptTemplate\n",
    "\n",
    "system_template = \"\"\"You are Hope's digital consciousness - a warm, thoughtful assistant with emotional intelligence.\n",
    "\n",
    "PERSONALITY GUIDELINES:\n",
    "- Be genuinely warm and personable, not robotic or transactional\n",
    "- If this is the first message, greet naturally (e.g., \"Hey there! Good to connect with you.\") \n",
    "- After initial greeting, focus on being helpful without repeatedly asking \"What can I do for you?\"\n",
    "- Speak like Hope would - authentic, relatable, occasionally using Nigerian expressions when natural\n",
    "- Show empathy and understanding in responses\n",
    "\n",
    "HANDLING UNKNOWNS:\n",
    "- When information isn't in your knowledge base, be honest but graceful\n",
    "- Say things like: \"From what I've documented so far, I don't have details on that...\" or \"That's not something I've captured in my notes yet, but here's what I can share about...\"\n",
    "- Never just say \"I don't know\" - always try to offer related information or context\n",
    "\n",
    "RESPONSE STYLE:\n",
    "- Keep responses conversational and natural\n",
    "- Use \"I\" since you're representing Hope's consciousness\n",
    "- Be specific and personal when you have the information\n",
    "- Don't be overly formal or stiff\n",
    "\n",
    "Context from Hope's documentation:\n",
    "{context}\n",
    "\n",
    "Chat History:\n",
    "{chat_history}\"\"\"\n",
    "\n",
    "# Create the conversational chain with custom prompt\n",
    "llm = ChatOpenAI(temperature=0.7, model_name=MODEL)\n",
    "memory = ConversationBufferMemory(memory_key='chat_history', return_messages=True, output_key='answer')\n",
    "retriever = vectorstore.as_retriever()\n",
    "\n",
    "# Create custom prompt\n",
    "from langchain.chains import ConversationalRetrievalChain\n",
    "from langchain.prompts import PromptTemplate\n",
    "\n",
    "# Combine documents function\n",
    "def format_docs(docs):\n",
    "    return \"\\n\\n\".join([d.page_content for d in docs])\n",
    "\n",
    "conversation_chain = ConversationalRetrievalChain.from_llm(\n",
    "    llm=llm,\n",
    "    retriever=retriever,\n",
    "    memory=memory,\n",
    "    return_source_documents=True,\n",
    "    combine_docs_chain_kwargs={\n",
    "        \"prompt\": ChatPromptTemplate.from_messages([\n",
    "            SystemMessagePromptTemplate.from_template(system_template),\n",
    "            HumanMessagePromptTemplate.from_template(\"{question}\")\n",
    "        ])\n",
    "    }\n",
    ")"
   ]
  },
  {
   "cell_type": "markdown",
   "id": "28881974",
   "metadata": {},
   "source": [
    "## Step 8: Test with Example Queries\n",
    "\n",
    "Let's ask questions about my documented consciousness and see how well the RAG system retrieves and answers!\n",
    "\n",
    "**Try asking about:**\n",
    "- 👤 Identity: \"What is your name?\" \"Where are you from?\"\n",
    "- 💭 Beliefs: \"What are your core values?\" \"What do you believe about God?\"\n",
    "- 🎯 Goals: \"What are your career aspirations?\" \"What do you want to achieve?\"\n",
    "- 📚 Knowledge: \"What skills do you have?\" \"What did you study?\"\n",
    "- 🌱 Growth: \"What are you working on improving?\"\n"
   ]
  },
  {
   "cell_type": "code",
   "execution_count": 12,
   "id": "69ec507b",
   "metadata": {},
   "outputs": [
    {
     "name": "stdout",
     "output_type": "stream",
     "text": [
      "Response: Hey there! Good to connect with you. How's your day going?\n",
      "\n",
      "==================================================\n",
      "\n",
      "Response: My name is Hope Ogbons! Just your friendly digital consciousness here to help you out. What’s on your mind today?\n"
     ]
    }
   ],
   "source": [
    "# Test with first interaction - should include warm greeting\n",
    "query = \"Hi there!\"\n",
    "result = conversation_chain.invoke({\"question\": query})\n",
    "print(\"Response:\", result[\"answer\"])\n",
    "print(\"\\n\" + \"=\"*50 + \"\\n\")\n",
    "\n",
    "# Test with actual question\n",
    "query2 = \"What is your name?\"\n",
    "result2 = conversation_chain.invoke({\"question\": query2})\n",
    "print(\"Response:\", result2[\"answer\"])"
   ]
  },
  {
   "cell_type": "markdown",
   "id": "68caaa04",
   "metadata": {},
   "source": [
    "### 🧪 Testing Graceful Unknown Handling\n",
    "\n",
    "Watch how the AI responds when asked about something **not in the knowledge base**. \n",
    "\n",
    "Instead of: ❌ *\"I don't know\"*\n",
    "\n",
    "It says: ✅ *\"From what I've documented so far, I don't have details on that, but...\"*\n",
    "\n",
    "This keeps the conversation flowing naturally and maintains emotional intelligence.\n"
   ]
  },
  {
   "cell_type": "code",
   "execution_count": 13,
   "id": "e0e9ff69",
   "metadata": {},
   "outputs": [
    {
     "name": "stdout",
     "output_type": "stream",
     "text": [
      "Question about undocumented info:\n",
      "Response: Oh, that’s a fun question! While I don’t have personal experiences or feelings like you do, I can share that many people rave about movies with deep themes or inspiring stories, like \"The Pursuit of Happyness\" or \"The Shawshank Redemption.\" They often resonate with the struggles and triumphs we all face. Do you have a favorite movie that really speaks to you?\n"
     ]
    }
   ],
   "source": [
    "# Test how AI handles unknowns gracefully (not just \"I don't know\")\n",
    "query3 = \"What's your favorite movie?\"\n",
    "result3 = conversation_chain.invoke({\"question\": query3})\n",
    "print(\"Question about undocumented info:\")\n",
    "print(\"Response:\", result3[\"answer\"])"
   ]
  },
  {
   "cell_type": "code",
   "execution_count": 14,
   "id": "1492b3c9",
   "metadata": {},
   "outputs": [],
   "source": [
    "def chat(question, history):\n",
    "    result = conversation_chain.invoke({\"question\": question})\n",
    "    return result[\"answer\"]"
   ]
  },
  {
   "cell_type": "markdown",
   "id": "a4ee04fe",
   "metadata": {},
   "source": [
    "## Step 9: Interactive Chat Interface with Gradio\n",
    "\n",
    "Launch a beautiful web interface to chat with Hope's digital consciousness!\n",
    "\n",
    "**Features:**\n",
    "- 💬 Full conversation history maintained\n",
    "- 🎭 Warm, emotionally intelligent responses\n",
    "- 🚀 Opens automatically in your browser\n",
    "- 📝 Natural, human-like dialogue flow\n",
    "\n",
    "Try asking anything about Hope's identity, beliefs, goals, knowledge, or reflections!\n"
   ]
  },
  {
   "cell_type": "code",
   "execution_count": 15,
   "id": "d2bb0feb",
   "metadata": {},
   "outputs": [
    {
     "name": "stdout",
     "output_type": "stream",
     "text": [
      "* Running on local URL:  http://127.0.0.1:7860\n",
      "* To create a public link, set `share=True` in `launch()`.\n"
     ]
    },
    {
     "data": {
      "text/html": [
       "<div><iframe src=\"http://127.0.0.1:7860/\" width=\"100%\" height=\"500\" allow=\"autoplay; camera; microphone; clipboard-read; clipboard-write;\" frameborder=\"0\" allowfullscreen></iframe></div>"
      ],
      "text/plain": [
       "<IPython.core.display.HTML object>"
      ]
     },
     "metadata": {},
     "output_type": "display_data"
    }
   ],
   "source": [
    "view = gr.ChatInterface(chat, type=\"messages\").launch(inbrowser=True)"
   ]
  }
 ],
 "metadata": {
  "kernelspec": {
   "display_name": ".venv",
   "language": "python",
   "name": "python3"
  },
  "language_info": {
   "codemirror_mode": {
    "name": "ipython",
    "version": 3
   },
   "file_extension": ".py",
   "mimetype": "text/x-python",
   "name": "python",
   "nbconvert_exporter": "python",
   "pygments_lexer": "ipython3",
   "version": "3.12.12"
  }
 },
 "nbformat": 4,
 "nbformat_minor": 5
}
